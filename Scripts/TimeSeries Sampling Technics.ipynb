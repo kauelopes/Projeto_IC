{
 "cells": [
  {
   "cell_type": "code",
   "execution_count": 6,
   "metadata": {},
   "outputs": [],
   "source": [
    "import numpy as np\n",
    "import matplotlib.pyplot as plt"
   ]
  },
  {
   "cell_type": "code",
   "execution_count": 20,
   "metadata": {},
   "outputs": [],
   "source": [
    "y = np.ones(100)\n",
    "x = np.arange(0,100)"
   ]
  },
  {
   "cell_type": "code",
   "execution_count": 23,
   "metadata": {},
   "outputs": [],
   "source": [
    "x = x*np.random.rand(100)/100"
   ]
  },
  {
   "cell_type": "code",
   "execution_count": 24,
   "metadata": {},
   "outputs": [
    {
     "data": {
      "text/plain": [
       "<matplotlib.collections.PathCollection at 0x7f1d9dee9278>"
      ]
     },
     "execution_count": 24,
     "metadata": {},
     "output_type": "execute_result"
    },
    {
     "data": {
      "image/png": "[encoded data removed]",
      "text/plain": [
       "<Figure size 432x288 with 1 Axes>"
      ]
     },
     "metadata": {
      "needs_background": "light"
     },
     "output_type": "display_data"
    }
   ],
   "source": [
    "plt.scatter(x,y)"
   ]
  },
  {
   "cell_type": "code",
   "execution_count": 25,
   "metadata": {},
   "outputs": [],
   "source": [
    "r = np.fft.fft(a_series)"
   ]
  },
  {
   "cell_type": "code",
   "execution_count": null,
   "metadata": {},
   "outputs": [],
   "source": []
  },
  {
   "cell_type": "code",
   "execution_count": 26,
   "metadata": {},
   "outputs": [
    {
     "name": "stderr",
     "output_type": "stream",
     "text": [
      "/home/kaue/anaconda3/lib/python3.7/site-packages/numpy/core/numeric.py:538: ComplexWarning: Casting complex values to real discards the imaginary part\n",
      "  return array(a, dtype, copy=False, order=order)\n"
     ]
    },
    {
     "data": {
      "text/plain": [
       "[<matplotlib.lines.Line2D at 0x7f1d9df19940>]"
      ]
     },
     "execution_count": 26,
     "metadata": {},
     "output_type": "execute_result"
    },
    {
     "data": {
      "image/png": "[encoded data removed]",
      "text/plain": [
       "<Figure size 432x288 with 1 Axes>"
      ]
     },
     "metadata": {
      "needs_background": "light"
     },
     "output_type": "display_data"
    }
   ],
   "source": [
    "plt.plot(r)"
   ]
  },
  {
   "cell_type": "code",
   "execution_count": 27,
   "metadata": {},
   "outputs": [
    {
     "data": {
      "text/plain": [
       "array([ 4.58575387e-01+0.j        ,  5.69617451e-03-0.01579281j,\n",
       "       -1.63580707e-04+0.02179519j,  1.33388855e-03-0.00401965j,\n",
       "        2.79873096e-02+0.02520774j, -2.81636295e-02+0.00538045j,\n",
       "       -1.42873783e-02+0.013617j  , -5.85645708e-03+0.00781658j,\n",
       "        2.55722535e-02+0.00809012j,  3.58633612e-02+0.00195853j,\n",
       "       -2.24174936e-02-0.05040253j, -8.90462102e-03+0.00302003j,\n",
       "        2.77853627e-02-0.0169769j ,  2.91603739e-02+0.00242958j,\n",
       "        2.66407245e-03+0.00107587j,  4.86877375e-02-0.00543403j,\n",
       "        4.67208653e-03-0.01248195j, -2.35252499e-02-0.00123257j,\n",
       "        1.91752113e-03-0.01468861j,  1.22337452e-03+0.01555268j,\n",
       "        4.89847579e-02+0.00032465j, -2.92309878e-03-0.05161685j,\n",
       "       -1.36000178e-02+0.00256705j, -1.36974488e-02+0.00719737j,\n",
       "        5.08574816e-03-0.02147429j, -2.57040524e-02+0.00539222j,\n",
       "       -1.32514682e-02-0.01966356j,  2.96238903e-02+0.02432106j,\n",
       "       -2.50931801e-02+0.00719167j, -1.12491514e-02-0.01944254j,\n",
       "       -1.84108866e-02-0.03007081j, -1.46055399e-02+0.02917162j,\n",
       "       -7.35820130e-03-0.00107356j,  1.65451682e-02+0.04073168j,\n",
       "       -1.94022901e-03-0.02165207j,  1.45785726e-02-0.02804627j,\n",
       "        8.72685054e-03-0.01723116j, -1.89595485e-02-0.03672842j,\n",
       "       -1.35689437e-02-0.02932107j, -9.75360165e-03-0.03399894j,\n",
       "        1.01708983e-02+0.01342146j,  4.73330787e-03+0.00703378j,\n",
       "       -8.34893801e-03+0.00967945j,  2.26150220e-02+0.0268891j ,\n",
       "       -4.31147917e-03+0.01551592j,  1.82662899e-03+0.01442043j,\n",
       "        1.76635408e-02+0.00767561j, -1.88539211e-04-0.02490428j,\n",
       "        7.78210310e-03-0.02960955j,  1.41566838e-02+0.01176619j,\n",
       "       -6.24574470e-03+0.j        ,  1.41566838e-02-0.01176619j,\n",
       "        7.78210310e-03+0.02960955j, -1.88539211e-04+0.02490428j,\n",
       "        1.76635408e-02-0.00767561j,  1.82662899e-03-0.01442043j,\n",
       "       -4.31147917e-03-0.01551592j,  2.26150220e-02-0.0268891j ,\n",
       "       -8.34893801e-03-0.00967945j,  4.73330787e-03-0.00703378j,\n",
       "        1.01708983e-02-0.01342146j, -9.75360165e-03+0.03399894j,\n",
       "       -1.35689437e-02+0.02932107j, -1.89595485e-02+0.03672842j,\n",
       "        8.72685054e-03+0.01723116j,  1.45785726e-02+0.02804627j,\n",
       "       -1.94022901e-03+0.02165207j,  1.65451682e-02-0.04073168j,\n",
       "       -7.35820130e-03+0.00107356j, -1.46055399e-02-0.02917162j,\n",
       "       -1.84108866e-02+0.03007081j, -1.12491514e-02+0.01944254j,\n",
       "       -2.50931801e-02-0.00719167j,  2.96238903e-02-0.02432106j,\n",
       "       -1.32514682e-02+0.01966356j, -2.57040524e-02-0.00539222j,\n",
       "        5.08574816e-03+0.02147429j, -1.36974488e-02-0.00719737j,\n",
       "       -1.36000178e-02-0.00256705j, -2.92309878e-03+0.05161685j,\n",
       "        4.89847579e-02-0.00032465j,  1.22337452e-03-0.01555268j,\n",
       "        1.91752113e-03+0.01468861j, -2.35252499e-02+0.00123257j,\n",
       "        4.67208653e-03+0.01248195j,  4.86877375e-02+0.00543403j,\n",
       "        2.66407245e-03-0.00107587j,  2.91603739e-02-0.00242958j,\n",
       "        2.77853627e-02+0.0169769j , -8.90462102e-03-0.00302003j,\n",
       "       -2.24174936e-02+0.05040253j,  3.58633612e-02-0.00195853j,\n",
       "        2.55722535e-02-0.00809012j, -5.85645708e-03-0.00781658j,\n",
       "       -1.42873783e-02-0.013617j  , -2.81636295e-02-0.00538045j,\n",
       "        2.79873096e-02-0.02520774j,  1.33388855e-03+0.00401965j,\n",
       "       -1.63580707e-04-0.02179519j,  5.69617451e-03+0.01579281j])"
      ]
     },
     "execution_count": 27,
     "metadata": {},
     "output_type": "execute_result"
    }
   ],
   "source": [
    "r"
   ]
  },
  {
   "cell_type": "code",
   "execution_count": null,
   "metadata": {},
   "outputs": [],
   "source": []
  },
  {
   "cell_type": "code",
   "execution_count": null,
   "metadata": {},
   "outputs": [],
   "source": []
  },
  {
   "cell_type": "code",
   "execution_count": null,
   "metadata": {},
   "outputs": [],
   "source": []
  },
  {
   "cell_type": "code",
   "execution_count": null,
   "metadata": {},
   "outputs": [],
   "source": []
  }
 ],
 "metadata": {
  "kernelspec": {
   "display_name": "Python 3",
   "language": "python",
   "name": "python3"
  },
  "language_info": {
   "codemirror_mode": {
    "name": "ipython",
    "version": 3
   },
   "file_extension": ".py",
   "mimetype": "text/x-python",
   "name": "python",
   "nbconvert_exporter": "python",
   "pygments_lexer": "ipython3",
   "version": "3.7.3"
  }
 },
 "nbformat": 4,
 "nbformat_minor": 2
}
