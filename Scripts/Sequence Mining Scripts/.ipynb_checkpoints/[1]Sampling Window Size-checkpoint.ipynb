{
 "cells": [
  {
   "cell_type": "code",
   "execution_count": 71,
   "metadata": {},
   "outputs": [],
   "source": [
    "import numpy as np\n",
    "import pymongo\n",
    "import matplotlib.pyplot as plt\n",
    "import pandas as pd"
   ]
  },
  {
   "cell_type": "code",
   "execution_count": 70,
   "metadata": {},
   "outputs": [],
   "source": [
    "db_client = pymongo.MongoClient('localhost', 27017)\n",
    "\n",
    "db_ice = db_client.ice\n",
    "db_ice_posts = db_ice.posts\n",
    "db_ice_comments = db_ice.comments\n",
    "db_ice_users = db_ice.users"
   ]
  },
  {
   "cell_type": "code",
   "execution_count": 72,
   "metadata": {},
   "outputs": [],
   "source": [
    "# Seleciona usuarios com mais de 10 posts\n",
    "u = db_ice_users.find()\n",
    "usuarios = []\n",
    "for a in u:\n",
    "    if a[\"num_posts\"]>10:\n",
    "        usuarios += [[a[\"_id\"], a[\"posts_id\"]]]"
   ]
  },
  {
   "cell_type": "code",
   "execution_count": 74,
   "metadata": {},
   "outputs": [],
   "source": [
    "# Carrega usuarios e tempos do BD\n",
    "for posts in usuarios:\n",
    "    usu = posts[0]\n",
    "    r = db_ice_posts.find({\"_id\": {\"$in\": posts[1]}})\n",
    "    tempos = []\n",
    "    for a in r:\n",
    "        tempos += [a[\"created_utc\"]]\n",
    "    posts += [tempos]"
   ]
  },
  {
   "cell_type": "code",
   "execution_count": 102,
   "metadata": {},
   "outputs": [],
   "source": [
    "# Definicao para tamanho das Janelas\n",
    "window_sizes = [0.5*60*60*24,1*60*60*24,2*60*60*24,3*60*60*24,4*60*60*24,5*60*60*24]\n",
    "window_sizes = (np.asarray(phi)).tolist()"
   ]
  },
  {
   "cell_type": "code",
   "execution_count": null,
   "metadata": {},
   "outputs": [],
   "source": [
    "for u in usuarios:\n",
    "    pesos_das_frenquencias = []\n",
    "    for phi in window_sizes:\n",
    "        "
   ]
  },
  {
   "cell_type": "code",
   "execution_count": 131,
   "metadata": {},
   "outputs": [],
   "source": [
    "def calcula_peso_de_frequencias(datas,frequencias,parametro_beta = 1,bins=3):\n",
    "    if(bins%2==0):\n",
    "        print(\"Numero de bins precisa ser Impar\")\n",
    "        return\n",
    "    respostas = []\n",
    "    for phi in frequencias:\n",
    "        datas_mod = []\n",
    "\n",
    "        #Calculas os restos\n",
    "        for d in datas:\n",
    "            datas_mod+= [d%phi]\n",
    "        hist,_ = np.histogram(r,bins=bins,range=(0,phi))\n",
    "        hist = hist/np.sum(hist)\n",
    "        return hist"
   ]
  },
  {
   "cell_type": "code",
   "execution_count": null,
   "metadata": {},
   "outputs": [],
   "source": [
    "np.histogram"
   ]
  },
  {
   "cell_type": "code",
   "execution_count": 130,
   "metadata": {},
   "outputs": [
    {
     "data": {
      "text/plain": [
       "array([1, 5, 2, 3, 3])"
      ]
     },
     "execution_count": 130,
     "metadata": {},
     "output_type": "execute_result"
    }
   ],
   "source": [
    "calcula_peso_de_frequencias(usuarios[0][2],window_sizes,bins=5)"
   ]
  },
  {
   "cell_type": "code",
   "execution_count": 103,
   "metadata": {},
   "outputs": [
    {
     "data": {
      "text/plain": [
       "43200.0"
      ]
     },
     "execution_count": 103,
     "metadata": {},
     "output_type": "execute_result"
    }
   ],
   "source": [
    "window_sizes[0]"
   ]
  },
  {
   "cell_type": "code",
   "execution_count": 104,
   "metadata": {},
   "outputs": [],
   "source": [
    "r = []\n",
    "for d in usuarios[0][2]:\n",
    "    r+=[d%window_sizes[0]]"
   ]
  },
  {
   "cell_type": "code",
   "execution_count": 115,
   "metadata": {},
   "outputs": [
    {
     "data": {
      "text/plain": [
       "array([14])"
      ]
     },
     "execution_count": 115,
     "metadata": {},
     "output_type": "execute_result"
    }
   ],
   "source": [
    "np.histogram(r,bins=1,range=(0,window_sizes[0]))[0]/np"
   ]
  },
  {
   "cell_type": "code",
   "execution_count": 112,
   "metadata": {},
   "outputs": [
    {
     "data": {
      "text/plain": [
       "[25397.0,\n",
       " 37440.0,\n",
       " 6012.0,\n",
       " 27626.0,\n",
       " 12789.0,\n",
       " 37381.0,\n",
       " 14204.0,\n",
       " 21505.0,\n",
       " 38173.0,\n",
       " 30162.0,\n",
       " 28034.0,\n",
       " 16607.0,\n",
       " 14679.0,\n",
       " 15917.0]"
      ]
     },
     "execution_count": 112,
     "metadata": {},
     "output_type": "execute_result"
    }
   ],
   "source": [
    "r"
   ]
  },
  {
   "cell_type": "code",
   "execution_count": null,
   "metadata": {},
   "outputs": [],
   "source": []
  },
  {
   "cell_type": "code",
   "execution_count": null,
   "metadata": {},
   "outputs": [],
   "source": []
  },
  {
   "cell_type": "markdown",
   "metadata": {},
   "source": [
    "### Estudo da funcao de Custo"
   ]
  },
  {
   "cell_type": "code",
   "execution_count": 31,
   "metadata": {},
   "outputs": [],
   "source": [
    "def cost_function_tang(number_sampling = 5, beta = 1):\n",
    "    scale = np.arange(-1,1+2/(number_sampling-1),2/(number_sampling-1))\n",
    "    x = scale\n",
    "    x = -beta*(x**2)\n",
    "    x = np.exp(x)\n",
    "    return scale, (1-x)/(1+x)"
   ]
  },
  {
   "cell_type": "code",
   "execution_count": 68,
   "metadata": {
    "scrolled": false
   },
   "outputs": [
    {
     "data": {
      "text/plain": [
       "<matplotlib.legend.Legend at 0x7fb12932a7f0>"
      ]
     },
     "execution_count": 68,
     "metadata": {},
     "output_type": "execute_result"
    },
    {
     "data": {
      "image/png": "[encoded data removed]",
      "text/plain": [
       "<Figure size 432x288 with 1 Axes>"
      ]
     },
     "metadata": {
      "needs_background": "light"
     },
     "output_type": "display_data"
    }
   ],
   "source": [
    "y,x =cost_function_tang(number_sampling = 21, beta = 0.1)\n",
    "y1,x1 =cost_function_tang(number_sampling = 21, beta = 1)\n",
    "y2,x2 =cost_function_tang(number_sampling = 21, beta = 5)\n",
    "y3,x3 =cost_function_tang(number_sampling = 21, beta = 10)\n",
    "x = x/np.max(x)\n",
    "x1 = x1/np.max(x1)\n",
    "x2 = x2/np.max(x2)\n",
    "x3 = x3/np.max(x3)\n",
    "\n",
    "plt.plot(y,x,label=\"beta=0.1\")\n",
    "plt.plot(y1,x1,label=\"beta=1\")\n",
    "plt.plot(y2,x2,label=\"beta=5\")\n",
    "plt.plot(y3,x3,label=\"beta=10\")\n",
    "\n",
    "plt.legend(bbox_to_anchor=(1.05, 1), loc='upper left', borderaxespad=0.)"
   ]
  },
  {
   "cell_type": "code",
   "execution_count": null,
   "metadata": {},
   "outputs": [],
   "source": []
  },
  {
   "cell_type": "code",
   "execution_count": null,
   "metadata": {},
   "outputs": [],
   "source": []
  }
 ],
 "metadata": {
  "kernelspec": {
   "display_name": "Python 3",
   "language": "python",
   "name": "python3"
  },
  "language_info": {
   "codemirror_mode": {
    "name": "ipython",
    "version": 3
   },
   "file_extension": ".py",
   "mimetype": "text/x-python",
   "name": "python",
   "nbconvert_exporter": "python",
   "pygments_lexer": "ipython3",
   "version": "3.7.3"
  }
 },
 "nbformat": 4,
 "nbformat_minor": 2
}
