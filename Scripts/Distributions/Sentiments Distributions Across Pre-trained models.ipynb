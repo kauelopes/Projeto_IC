{
 "cells": [
  {
   "cell_type": "code",
   "execution_count": 1,
   "metadata": {},
   "outputs": [],
   "source": [
    "import numpy as np\n",
    "from scipy.spatial import distance_matrix\n",
    "import matplotlib.pyplot as plt\n",
    "import ic"
   ]
  },
  {
   "cell_type": "code",
   "execution_count": 2,
   "metadata": {},
   "outputs": [],
   "source": [
    "nome_dos_arquivos = ic.get_file_names()\n",
    "numero_de_arquivos = len(nome_dos_arquivos)\n",
    "nome_dos_arquivos = nome_dos_arquivos[0:7] + nome_dos_arquivos[8:13] + [nome_dos_arquivos[14]]\n",
    "numero_de_arquivos = numero_de_arquivos -4"
   ]
  },
  {
   "cell_type": "code",
   "execution_count": 3,
   "metadata": {},
   "outputs": [],
   "source": [
    "def get_normalized_distance_matrix_of_embeddings(emb):\n",
    "    vectors = []\n",
    "    for key in emb:\n",
    "        vectors += [emb[key]['vectors'][key]]\n",
    "    dm = distance_matrix(vectors,vectors)\n",
    "    dm = dm/np.max(dm)\n",
    "    return dm"
   ]
  },
  {
   "cell_type": "code",
   "execution_count": 4,
   "metadata": {},
   "outputs": [],
   "source": [
    "def get_vectors_from_embedding(emb):\n",
    "    vec_emb_crawl = []\n",
    "    for key in emb:\n",
    "        vec_emb_crawl += [emb[key]['vectors'][key]]\n",
    "    return vec_emb_crawl"
   ]
  },
  {
   "cell_type": "code",
   "execution_count": 5,
   "metadata": {},
   "outputs": [],
   "source": [
    "embbeding_distance_matrix_heat_map = np.zeros((numero_de_arquivos,numero_de_arquivos))"
   ]
  },
  {
   "cell_type": "code",
   "execution_count": 6,
   "metadata": {},
   "outputs": [
    {
     "data": {
      "text/plain": [
       "11"
      ]
     },
     "execution_count": 6,
     "metadata": {},
     "output_type": "execute_result"
    }
   ],
   "source": [
    "numero_de_arquivos"
   ]
  },
  {
   "cell_type": "code",
   "execution_count": 7,
   "metadata": {},
   "outputs": [],
   "source": [
    "embbedings_distance = []\n",
    "for i in range(numero_de_arquivos+2):\n",
    "    if i != 7 and i!=14:\n",
    "        emb = ic.get_embedding(i)\n",
    "        embbedings_distance += [get_normalized_distance_matrix_of_embeddings(emb)]\n",
    "for i in range(numero_de_arquivos):\n",
    "    for j in range(numero_de_arquivos):\n",
    "        embbeding_distance_matrix_heat_map[i][j] = np.sqrt(np.sum((embbedings_distance[i] - embbedings_distance[j])**2))"
   ]
  },
  {
   "cell_type": "code",
   "execution_count": 8,
   "metadata": {},
   "outputs": [
    {
     "data": {
      "text/plain": [
       "['glove.twitter.27B.50d.txt.pickle',\n",
       " 'glove.840B.300d.txt.pickle',\n",
       " 'glove.twitter.27B.200d.txt.pickle',\n",
       " 'GoogleNews-vectors-negative300.bin.pickle',\n",
       " 'glove.6B.200d.txt.pickle',\n",
       " 'glove.42B.300d.txt.pickle',\n",
       " 'glove.6B.300d.txt.pickle',\n",
       " 'wiki-news-300d-1M-subword.vec.pickle',\n",
       " 'glove.twitter.27B.100d.txt.pickle',\n",
       " 'glove.6B.50d.txt.pickle',\n",
       " 'glove.6B.100d.txt.pickle',\n",
       " 'wiki-news-300d-1M.vec.pickle',\n",
       " 'glove.twitter.27B.25d.txt.pickle',\n",
       " 'crawl-300d-2M-subword.vec.pickle',\n",
       " 'crawl-300d-2M.vec.pickle']"
      ]
     },
     "execution_count": 8,
     "metadata": {},
     "output_type": "execute_result"
    }
   ],
   "source": [
    "ic.get_file_names()"
   ]
  },
  {
   "cell_type": "code",
   "execution_count": 9,
   "metadata": {},
   "outputs": [],
   "source": [
    "nomes_apresentaveis = [\"Glove Twitter\", \"Glove Crawler 840B\", \"Google Vectors\", \"Glove Crawler 6B\", \"Glove Crawler 42B\", \"Glove Twitter 27B\", \"Facebook Fasttext\", \"Facebook Fasttext Wiki\", \"Google Crawl 2M\", \"Google SubWord\", \"Glove Subword\" ]"
   ]
  },
  {
   "cell_type": "code",
   "execution_count": 10,
   "metadata": {},
   "outputs": [
    {
     "data": {
      "text/plain": [
       "11"
      ]
     },
     "execution_count": 10,
     "metadata": {},
     "output_type": "execute_result"
    }
   ],
   "source": [
    "len(nomes_apresentaveis)"
   ]
  },
  {
   "cell_type": "code",
   "execution_count": 130,
   "metadata": {},
   "outputs": [
    {
     "data": {
      "text/plain": [
       "11"
      ]
     },
     "execution_count": 130,
     "metadata": {},
     "output_type": "execute_result"
    }
   ],
   "source": [
    "len(embbeding_distance_matrix_heat_map)"
   ]
  },
  {
   "cell_type": "code",
   "execution_count": 154,
   "metadata": {},
   "outputs": [],
   "source": [
    "%matplotlib qt"
   ]
  },
  {
   "cell_type": "code",
   "execution_count": 18,
   "metadata": {},
   "outputs": [],
   "source": [
    "fig, ax = plt.subplots(figsize=(11,11))\n",
    "im = ax.imshow(embbeding_distance_matrix_heat_map)\n",
    "\n",
    "# We want to show all ticks...\n",
    "ax.set_xticks(np.arange(len(nomes_apresentaveis)))\n",
    "ax.set_yticks(np.arange(len(nomes_apresentaveis)))\n",
    "# ... and label them with the respective list entries\n",
    "ax.set_xticklabels([(a) for i,a in enumerate(nomes_apresentaveis)])\n",
    "ax.set_yticklabels([(a) for i,a in enumerate(nomes_apresentaveis)],fontsize=14)\n",
    "\n",
    "# Rotate the tick labels and set their alignment.\n",
    "plt.setp(ax.get_xticklabels(), rotation=45, ha=\"right\",\n",
    "         rotation_mode=\"anchor\")\n",
    "\n",
    "# Loop over data dimensions and create text annotations.\n",
    "for i in range(len(nomes_apresentaveis)):\n",
    "    for j in range(len(nomes_apresentaveis)):\n",
    "        text = ax.text(j, i, round(embbeding_distance_matrix_heat_map[i, j],2),\n",
    "                       ha=\"center\", va=\"center\", color=\"w\", fontsize=13)\n",
    "fig.tight_layout()\n",
    "ax.set_title(\"Distance between Models (9.3% error for every 4 points of distance)\")\n",
    "plt.show()\n"
   ]
  },
  {
   "cell_type": "markdown",
   "metadata": {},
   "source": [
    "### GLOVE twitter (50,100,200) [0,8,2]"
   ]
  },
  {
   "cell_type": "code",
   "execution_count": 19,
   "metadata": {},
   "outputs": [],
   "source": [
    "from sklearn.preprocessing import MinMaxScaler\n",
    "from sklearn.decomposition import PCA"
   ]
  },
  {
   "cell_type": "code",
   "execution_count": 29,
   "metadata": {},
   "outputs": [],
   "source": [
    "pca4 = PCA(n_components=4)\n",
    "pca3 = PCA(n_components=3)\n",
    "pca2 = PCA(n_components=2)"
   ]
  },
  {
   "cell_type": "code",
   "execution_count": 38,
   "metadata": {},
   "outputs": [],
   "source": [
    "emb_crawl50 = ic.get_embedding(11)\n",
    "emb_crawl100 = ic.get_embedding(8)\n",
    "emb_crawl200 = ic.get_embedding(2)"
   ]
  },
  {
   "cell_type": "code",
   "execution_count": 39,
   "metadata": {},
   "outputs": [],
   "source": [
    "\n",
    "vec_a = get_vectors_from_embedding(emb_crawl50)\n",
    "vec_b = get_vectors_from_embedding(emb_crawl100)\n",
    "vec_c = get_vectors_from_embedding(emb_crawl200)"
   ]
  },
  {
   "cell_type": "code",
   "execution_count": 23,
   "metadata": {},
   "outputs": [],
   "source": [
    "%matplotlib inline"
   ]
  },
  {
   "cell_type": "code",
   "execution_count": null,
   "metadata": {},
   "outputs": [],
   "source": [
    "ic.visualize3d"
   ]
  },
  {
   "cell_type": "code",
   "execution_count": 24,
   "metadata": {},
   "outputs": [],
   "source": [
    "%matplotlib qt"
   ]
  },
  {
   "cell_type": "code",
   "execution_count": 25,
   "metadata": {},
   "outputs": [
    {
     "ename": "NameError",
     "evalue": "name 'vec_emb_crawl' is not defined",
     "output_type": "error",
     "traceback": [
      "\u001b[0;31m---------------------------------------------------------------------------\u001b[0m",
      "\u001b[0;31mNameError\u001b[0m                                 Traceback (most recent call last)",
      "\u001b[0;32m<ipython-input-25-197802cfe04c>\u001b[0m in \u001b[0;36m<module>\u001b[0;34m\u001b[0m\n\u001b[1;32m      1\u001b[0m \u001b[0mscaler\u001b[0m \u001b[0;34m=\u001b[0m \u001b[0mMinMaxScaler\u001b[0m\u001b[0;34m(\u001b[0m\u001b[0mfeature_range\u001b[0m\u001b[0;34m=\u001b[0m\u001b[0;34m[\u001b[0m\u001b[0;36m0\u001b[0m\u001b[0;34m,\u001b[0m \u001b[0;36m1\u001b[0m\u001b[0;34m]\u001b[0m\u001b[0;34m)\u001b[0m\u001b[0;34m\u001b[0m\u001b[0;34m\u001b[0m\u001b[0m\n\u001b[0;32m----> 2\u001b[0;31m \u001b[0mdata_rescaled\u001b[0m \u001b[0;34m=\u001b[0m \u001b[0mscaler\u001b[0m\u001b[0;34m.\u001b[0m\u001b[0mfit_transform\u001b[0m\u001b[0;34m(\u001b[0m\u001b[0mvec_emb_crawl\u001b[0m\u001b[0;34m)\u001b[0m\u001b[0;34m\u001b[0m\u001b[0;34m\u001b[0m\u001b[0m\n\u001b[0m",
      "\u001b[0;31mNameError\u001b[0m: name 'vec_emb_crawl' is not defined"
     ]
    }
   ],
   "source": [
    "scaler = MinMaxScaler(feature_range=[0, 1])\n",
    "data_rescaled = scaler.fit_transform(vec_emb_crawl)"
   ]
  },
  {
   "cell_type": "code",
   "execution_count": 26,
   "metadata": {},
   "outputs": [],
   "source": [
    "#Fitting the PCA algorithm with our Data\n"
   ]
  },
  {
   "cell_type": "code",
   "execution_count": 33,
   "metadata": {},
   "outputs": [],
   "source": [
    "pca_50 = PCA().fit(vec_a)#Plotting the Cumulative Summation of the Explained Variance\n",
    "plt.figure()\n",
    "plt.plot(np.cumsum(pca_50.explained_variance_ratio_))\n",
    "plt.xlabel('Number of Components')\n",
    "plt.ylabel('Variance (%)') #for each component\n",
    "plt.title('Pulsar Dataset Explained Variance')\n",
    "plt.show()\n",
    "pca_50 = PCA().fit_transform(vec_a)#Plotting the Cumulative Summation of the Explained Variance\n"
   ]
  },
  {
   "cell_type": "code",
   "execution_count": 45,
   "metadata": {},
   "outputs": [
    {
     "data": {
      "image/png": "[encoded data removed]",
      "text/plain": [
       "<Figure size 432x288 with 1 Axes>"
      ]
     },
     "metadata": {
      "needs_background": "light"
     },
     "output_type": "display_data"
    }
   ],
   "source": [
    "pca_100 = PCA().fit(vec_b)#Plotting the Cumulative Summation of the Explained Variance\n",
    "plt.figure()\n",
    "plt.plot(np.cumsum(pca_100.explained_variance_ratio_))\n",
    "plt.xlabel('Number of Components')\n",
    "plt.ylabel('Variance (%)') #for each component\n",
    "plt.title('Pulsar Dataset Explained Variance')\n",
    "plt.show()\n",
    "pca_100 = PCA().fit_transform(vec_b)#Plotting the Cumulative Summation of the Explained Variance\n"
   ]
  },
  {
   "cell_type": "code",
   "execution_count": 56,
   "metadata": {},
   "outputs": [
    {
     "data": {
      "image/png": "[encoded data removed]",
      "text/plain": [
       "<Figure size 432x288 with 1 Axes>"
      ]
     },
     "metadata": {
      "needs_background": "light"
     },
     "output_type": "display_data"
    }
   ],
   "source": [
    "pca_200 = PCA(svd_solver='full').fit(vec_c)#Plotting the Cumulative Summation of the Explained Variance\n",
    "plt.figure()\n",
    "plt.plot(np.cumsum(pca_200.explained_variance_ratio_))\n",
    "plt.xlabel('Number of Components')\n",
    "plt.ylabel('Variance (%)') #for each component\n",
    "plt.title('Pulsar Dataset Explained Variance')\n",
    "plt.show()\n",
    "pca_200 = PCA().fit_transform(vec_c)#Plotting the Cumulative Summation of the Explained Variance\n"
   ]
  },
  {
   "cell_type": "markdown",
   "metadata": {},
   "source": [
    "### Matriz de Distância após PCA"
   ]
  },
  {
   "cell_type": "code",
   "execution_count": 165,
   "metadata": {},
   "outputs": [],
   "source": [
    "original_distance_matrix = distance_matrix(vec_a,vec_a)\n",
    "original_distance_matrix = original_distance_matrix/np.max(original_distance_matrix)"
   ]
  },
  {
   "cell_type": "code",
   "execution_count": 166,
   "metadata": {},
   "outputs": [
    {
     "name": "stderr",
     "output_type": "stream",
     "text": [
      "/home/kaue/anaconda3/lib/python3.7/site-packages/ipykernel_launcher.py:5: RuntimeWarning: invalid value encountered in true_divide\n",
      "  \"\"\"\n"
     ]
    },
    {
     "data": {
      "text/plain": [
       "[<matplotlib.lines.Line2D at 0x7f09dc1dba20>]"
      ]
     },
     "execution_count": 166,
     "metadata": {},
     "output_type": "execute_result"
    },
    {
     "data": {
      "image/png": "[encoded data removed]",
      "text/plain": [
       "<Figure size 432x288 with 1 Axes>"
      ]
     },
     "metadata": {
      "needs_background": "light"
     },
     "output_type": "display_data"
    }
   ],
   "source": [
    "erros = []\n",
    "for i in range(50):\n",
    "    res = PCA(n_components=i).fit_transform(vec_a)\n",
    "    distance_matrix_res = distance_matrix(res,res)\n",
    "    distance_matrix_res = distance_matrix_res/np.max(distance_matrix_res)\n",
    "    erros += [np.sqrt(np.sum((distance_matrix_res - original_distance_matrix)**2))]\n",
    "plt.plot(erros)"
   ]
  },
  {
   "cell_type": "code",
   "execution_count": 85,
   "metadata": {},
   "outputs": [],
   "source": [
    "res = PCA(n_components=10).fit_transform(vec_b)\n"
   ]
  },
  {
   "cell_type": "code",
   "execution_count": 87,
   "metadata": {},
   "outputs": [],
   "source": [
    "distance_matrix_res = distance_matrix(res,res)"
   ]
  },
  {
   "cell_type": "code",
   "execution_count": 88,
   "metadata": {},
   "outputs": [
    {
     "data": {
      "text/plain": [
       "8.957991037265511"
      ]
     },
     "execution_count": 88,
     "metadata": {},
     "output_type": "execute_result"
    }
   ],
   "source": [
    "np.max(distance_matrix_res)"
   ]
  },
  {
   "cell_type": "code",
   "execution_count": 89,
   "metadata": {},
   "outputs": [
    {
     "name": "stdout",
     "output_type": "stream",
     "text": [
      "nan\n"
     ]
    },
    {
     "name": "stderr",
     "output_type": "stream",
     "text": [
      "/home/kaue/anaconda3/lib/python3.7/site-packages/ipykernel_launcher.py:5: RuntimeWarning: invalid value encountered in true_divide\n",
      "  \"\"\"\n"
     ]
    },
    {
     "data": {
      "image/png": "[encoded data removed]",
      "text/plain": [
       "<Figure size 432x288 with 1 Axes>"
      ]
     },
     "metadata": {
      "needs_background": "light"
     },
     "output_type": "display_data"
    }
   ],
   "source": [
    "erros = []\n",
    "for i in range(60):\n",
    "    res = PCA(n_components=i).fit_transform(vec_b)\n",
    "    distance_matrix_res = distance_matrix(res,res)\n",
    "    distance_matrix_res = distance_matrix_res/np.max(distance_matrix_res)\n",
    "    erros += [np.sqrt(np.sum((distance_matrix_res - original_distance_matrix)**2))]\n",
    "plt.plot(erros)\n",
    "print(np.min(erros))"
   ]
  },
  {
   "cell_type": "code",
   "execution_count": 81,
   "metadata": {},
   "outputs": [
    {
     "name": "stderr",
     "output_type": "stream",
     "text": [
      "/home/kaue/anaconda3/lib/python3.7/site-packages/ipykernel_launcher.py:5: RuntimeWarning: invalid value encountered in true_divide\n",
      "  \"\"\"\n"
     ]
    },
    {
     "name": "stdout",
     "output_type": "stream",
     "text": [
      "nan\n"
     ]
    },
    {
     "data": {
      "image/png": "[encoded data removed]",
      "text/plain": [
       "<Figure size 432x288 with 1 Axes>"
      ]
     },
     "metadata": {
      "needs_background": "light"
     },
     "output_type": "display_data"
    }
   ],
   "source": [
    "erros = []\n",
    "for i in range(60):\n",
    "    res = PCA(n_components=i).fit_transform(vec_c)\n",
    "    distance_matrix_res = distance_matrix(res,res)\n",
    "    distance_matrix_res = distance_matrix_res/np.max(distance_matrix_res)\n",
    "    erros += [np.sqrt(np.sum((distance_matrix_res - original_distance_matrix)**2))]\n",
    "plt.plot(erros)\n",
    "print(np.min(erros))"
   ]
  },
  {
   "cell_type": "code",
   "execution_count": null,
   "metadata": {},
   "outputs": [],
   "source": []
  },
  {
   "cell_type": "code",
   "execution_count": 36,
   "metadata": {},
   "outputs": [],
   "source": [
    "sentiments = ic.get_sentiments()"
   ]
  },
  {
   "cell_type": "markdown",
   "metadata": {},
   "source": [
    "### Visualizacao 3D  com PCA Aplicado"
   ]
  },
  {
   "cell_type": "code",
   "execution_count": 48,
   "metadata": {},
   "outputs": [],
   "source": [
    "%matplotlib qt"
   ]
  },
  {
   "cell_type": "code",
   "execution_count": 45,
   "metadata": {},
   "outputs": [],
   "source": [
    "emb_crawl50 = ic.get_embedding(11)\n",
    "\n",
    "vec_a = get_vectors_from_embedding(emb_crawl50)"
   ]
  },
  {
   "cell_type": "code",
   "execution_count": 46,
   "metadata": {},
   "outputs": [],
   "source": [
    "ic.visualize3d(pca_50[:,0],pca_50[:,1],pca_50[:,2],sentiments, title=\"50 dimensoes\")"
   ]
  },
  {
   "cell_type": "code",
   "execution_count": 32,
   "metadata": {},
   "outputs": [
    {
     "ename": "NameError",
     "evalue": "name 'pca_100' is not defined",
     "output_type": "error",
     "traceback": [
      "\u001b[0;31m---------------------------------------------------------------------------\u001b[0m",
      "\u001b[0;31mNameError\u001b[0m                                 Traceback (most recent call last)",
      "\u001b[0;32m<ipython-input-32-fafe89af4a33>\u001b[0m in \u001b[0;36m<module>\u001b[0;34m\u001b[0m\n\u001b[0;32m----> 1\u001b[0;31m \u001b[0mic\u001b[0m\u001b[0;34m.\u001b[0m\u001b[0mvisualize3d\u001b[0m\u001b[0;34m(\u001b[0m\u001b[0mpca_100\u001b[0m\u001b[0;34m[\u001b[0m\u001b[0;34m:\u001b[0m\u001b[0;34m,\u001b[0m\u001b[0;36m0\u001b[0m\u001b[0;34m]\u001b[0m\u001b[0;34m,\u001b[0m\u001b[0mpca_100\u001b[0m\u001b[0;34m[\u001b[0m\u001b[0;34m:\u001b[0m\u001b[0;34m,\u001b[0m\u001b[0;36m1\u001b[0m\u001b[0;34m]\u001b[0m\u001b[0;34m,\u001b[0m\u001b[0mpca_100\u001b[0m\u001b[0;34m[\u001b[0m\u001b[0;34m:\u001b[0m\u001b[0;34m,\u001b[0m\u001b[0;36m3\u001b[0m\u001b[0;34m]\u001b[0m\u001b[0;34m,\u001b[0m\u001b[0msentiments\u001b[0m\u001b[0;34m,\u001b[0m \u001b[0mtitle\u001b[0m\u001b[0;34m=\u001b[0m\u001b[0;34m\"100 dimensoes\"\u001b[0m\u001b[0;34m)\u001b[0m\u001b[0;34m\u001b[0m\u001b[0;34m\u001b[0m\u001b[0m\n\u001b[0m",
      "\u001b[0;31mNameError\u001b[0m: name 'pca_100' is not defined"
     ]
    }
   ],
   "source": [
    "ic.visualize3d(pca_100[:,0],pca_100[:,1],pca_100[:, 3],sentiments, title=\"100 dimensoes\")"
   ]
  },
  {
   "cell_type": "code",
   "execution_count": 51,
   "metadata": {},
   "outputs": [
    {
     "name": "stderr",
     "output_type": "stream",
     "text": [
      "Traceback (most recent call last):\n",
      "  File \"/home/kaue/anaconda3/lib/python3.7/site-packages/matplotlib/backends/backend_qt5.py\", line 519, in _draw_idle\n",
      "    self.draw()\n",
      "  File \"/home/kaue/anaconda3/lib/python3.7/site-packages/matplotlib/backends/backend_agg.py\", line 402, in draw\n",
      "    self.figure.draw(self.renderer)\n",
      "  File \"/home/kaue/anaconda3/lib/python3.7/site-packages/matplotlib/artist.py\", line 50, in draw_wrapper\n",
      "    return draw(artist, renderer, *args, **kwargs)\n",
      "  File \"/home/kaue/anaconda3/lib/python3.7/site-packages/matplotlib/figure.py\", line 1649, in draw\n",
      "    renderer, self, artists, self.suppressComposite)\n",
      "  File \"/home/kaue/anaconda3/lib/python3.7/site-packages/matplotlib/image.py\", line 138, in _draw_list_compositing_images\n",
      "    a.draw(renderer)\n",
      "  File \"/home/kaue/anaconda3/lib/python3.7/site-packages/matplotlib/artist.py\", line 50, in draw_wrapper\n",
      "    return draw(artist, renderer, *args, **kwargs)\n",
      "  File \"/home/kaue/anaconda3/lib/python3.7/site-packages/mpl_toolkits/mplot3d/axes3d.py\", line 301, in draw\n",
      "    axis.draw(renderer)\n",
      "  File \"/home/kaue/anaconda3/lib/python3.7/site-packages/matplotlib/artist.py\", line 50, in draw_wrapper\n",
      "    return draw(artist, renderer, *args, **kwargs)\n",
      "  File \"/home/kaue/anaconda3/lib/python3.7/site-packages/mpl_toolkits/mplot3d/axis3d.py\", line 225, in draw\n",
      "    majorTicks = self.get_major_ticks()\n",
      "  File \"/home/kaue/anaconda3/lib/python3.7/site-packages/mpl_toolkits/mplot3d/axis3d.py\", line 142, in get_major_ticks\n",
      "    ticks = maxis.XAxis.get_major_ticks(self, numticks)\n",
      "  File \"/home/kaue/anaconda3/lib/python3.7/site-packages/matplotlib/axis.py\", line 1391, in get_major_ticks\n",
      "    numticks = len(self.get_major_locator()())\n",
      "  File \"/home/kaue/anaconda3/lib/python3.7/site-packages/matplotlib/ticker.py\", line 2128, in __call__\n",
      "    return self.tick_values(vmin, vmax)\n",
      "  File \"/home/kaue/anaconda3/lib/python3.7/site-packages/matplotlib/ticker.py\", line 2154, in tick_values\n",
      "    \"Data has no positive values, and therefore can not be \"\n",
      "ValueError: Data has no positive values, and therefore can not be log-scaled.\n",
      "Traceback (most recent call last):\n",
      "  File \"/home/kaue/anaconda3/lib/python3.7/site-packages/matplotlib/backends/backend_qt5.py\", line 519, in _draw_idle\n",
      "    self.draw()\n",
      "  File \"/home/kaue/anaconda3/lib/python3.7/site-packages/matplotlib/backends/backend_agg.py\", line 402, in draw\n",
      "    self.figure.draw(self.renderer)\n",
      "  File \"/home/kaue/anaconda3/lib/python3.7/site-packages/matplotlib/artist.py\", line 50, in draw_wrapper\n",
      "    return draw(artist, renderer, *args, **kwargs)\n",
      "  File \"/home/kaue/anaconda3/lib/python3.7/site-packages/matplotlib/figure.py\", line 1649, in draw\n",
      "    renderer, self, artists, self.suppressComposite)\n",
      "  File \"/home/kaue/anaconda3/lib/python3.7/site-packages/matplotlib/image.py\", line 138, in _draw_list_compositing_images\n",
      "    a.draw(renderer)\n",
      "  File \"/home/kaue/anaconda3/lib/python3.7/site-packages/matplotlib/artist.py\", line 50, in draw_wrapper\n",
      "    return draw(artist, renderer, *args, **kwargs)\n",
      "  File \"/home/kaue/anaconda3/lib/python3.7/site-packages/mpl_toolkits/mplot3d/axes3d.py\", line 301, in draw\n",
      "    axis.draw(renderer)\n",
      "  File \"/home/kaue/anaconda3/lib/python3.7/site-packages/matplotlib/artist.py\", line 50, in draw_wrapper\n",
      "    return draw(artist, renderer, *args, **kwargs)\n",
      "  File \"/home/kaue/anaconda3/lib/python3.7/site-packages/mpl_toolkits/mplot3d/axis3d.py\", line 225, in draw\n",
      "    majorTicks = self.get_major_ticks()\n",
      "  File \"/home/kaue/anaconda3/lib/python3.7/site-packages/mpl_toolkits/mplot3d/axis3d.py\", line 142, in get_major_ticks\n",
      "    ticks = maxis.XAxis.get_major_ticks(self, numticks)\n",
      "  File \"/home/kaue/anaconda3/lib/python3.7/site-packages/matplotlib/axis.py\", line 1391, in get_major_ticks\n",
      "    numticks = len(self.get_major_locator()())\n",
      "  File \"/home/kaue/anaconda3/lib/python3.7/site-packages/matplotlib/ticker.py\", line 2128, in __call__\n",
      "    return self.tick_values(vmin, vmax)\n",
      "  File \"/home/kaue/anaconda3/lib/python3.7/site-packages/matplotlib/ticker.py\", line 2154, in tick_values\n",
      "    \"Data has no positive values, and therefore can not be \"\n",
      "ValueError: Data has no positive values, and therefore can not be log-scaled.\n"
     ]
    }
   ],
   "source": [
    "ic.visualize3d(pca_200[:,0],pca_200[:,3],pca_200[:,2],sentiments, title=\"200 dimensoes\")"
   ]
  },
  {
   "cell_type": "code",
   "execution_count": null,
   "metadata": {},
   "outputs": [],
   "source": [
    "ic.visualize3d(pca_emb_crawl[:,3],pca_emb_crawl[:,1],pca_emb_crawl[:,2],sentiments, title=\"Crawl 0 fora\")"
   ]
  },
  {
   "cell_type": "code",
   "execution_count": null,
   "metadata": {},
   "outputs": [],
   "source": [
    "ic.visualize3d(pca_emb_subword[:,0],pca_emb_subword[:,1],pca_emb_subword[:,2],sentiments, title=\"Subword\")"
   ]
  },
  {
   "cell_type": "code",
   "execution_count": 10,
   "metadata": {},
   "outputs": [],
   "source": [
    "sentiments = ic.get_sentiments()"
   ]
  },
  {
   "cell_type": "markdown",
   "metadata": {},
   "source": [
    "### Visualizacao do PCA3"
   ]
  },
  {
   "cell_type": "code",
   "execution_count": 12,
   "metadata": {},
   "outputs": [],
   "source": [
    "%matplotlib qt"
   ]
  },
  {
   "cell_type": "code",
   "execution_count": 164,
   "metadata": {},
   "outputs": [],
   "source": [
    "for i in range(10,14):\n",
    "    vec_a = get_vectors_from_embedding(ic.get_embedding(i))\n",
    "    pca3_emb_crawl = pca3.fit_transform(vec_a)\n",
    "    ic.visualize3d(pca3_emb_crawl[:,0],pca3_emb_crawl[:,1],pca3_emb_crawl[:,2],sentiments, title=\"Facebook FastText\",text_size=11)"
   ]
  },
  {
   "cell_type": "code",
   "execution_count": 192,
   "metadata": {},
   "outputs": [],
   "source": [
    "import ic"
   ]
  },
  {
   "cell_type": "code",
   "execution_count": 189,
   "metadata": {},
   "outputs": [],
   "source": []
  },
  {
   "cell_type": "code",
   "execution_count": null,
   "metadata": {},
   "outputs": [],
   "source": []
  },
  {
   "cell_type": "code",
   "execution_count": null,
   "metadata": {},
   "outputs": [],
   "source": [
    "pca2_emb_crawl"
   ]
  },
  {
   "cell_type": "code",
   "execution_count": null,
   "metadata": {},
   "outputs": [],
   "source": [
    "plt.scatter(pca2_emb_crawl[:,0],pca2_emb_crawl[:,1])"
   ]
  },
  {
   "cell_type": "code",
   "execution_count": null,
   "metadata": {},
   "outputs": [],
   "source": []
  },
  {
   "cell_type": "code",
   "execution_count": null,
   "metadata": {},
   "outputs": [],
   "source": []
  },
  {
   "cell_type": "code",
   "execution_count": null,
   "metadata": {},
   "outputs": [],
   "source": []
  },
  {
   "cell_type": "code",
   "execution_count": null,
   "metadata": {},
   "outputs": [],
   "source": []
  },
  {
   "cell_type": "code",
   "execution_count": 140,
   "metadata": {},
   "outputs": [
    {
     "name": "stdout",
     "output_type": "stream",
     "text": [
      "30.42232080680964\n"
     ]
    }
   ],
   "source": [
    "resp = 0\n",
    "for j in range(100):\n",
    "    a = np.random.random([75,75])\n",
    "    b = np.random.random([75,75])\n",
    "    for i in range(len(a)):\n",
    "        a[i][i] = 0\n",
    "        b[i][i] = 0\n",
    "    resp += np.sqrt(np.sum((a-b)**2))\n",
    "print(resp/100)"
   ]
  },
  {
   "cell_type": "code",
   "execution_count": 162,
   "metadata": {},
   "outputs": [],
   "source": [
    "erro = []\n",
    "for k in np.arange(0,0.5,0.05):\n",
    "    resp = 0\n",
    "    for j in range(100):\n",
    "        a = np.random.random([75,75])\n",
    "        b = a + np.random.random([75,75])*k\n",
    "        for i in range(len(a)):\n",
    "            a[i][i] = 0\n",
    "            b[i][i] = 0\n",
    "        resp += np.sqrt(np.sum((a-b)**2))\n",
    "    resp = resp/100\n",
    "    erro += [[k,resp]]\n",
    "erro = np.asarray(erro)"
   ]
  },
  {
   "cell_type": "code",
   "execution_count": 163,
   "metadata": {},
   "outputs": [
    {
     "data": {
      "text/plain": [
       "<matplotlib.collections.PathCollection at 0x7f09dc065ef0>"
      ]
     },
     "execution_count": 163,
     "metadata": {},
     "output_type": "execute_result"
    },
    {
     "data": {
      "image/png": "[encoded data removed]",
      "text/plain": [
       "<Figure size 432x288 with 1 Axes>"
      ]
     },
     "metadata": {
      "needs_background": "light"
     },
     "output_type": "display_data"
    }
   ],
   "source": [
    "plt.scatter(erro[:,0],erro[:,1])"
   ]
  },
  {
   "cell_type": "code",
   "execution_count": 158,
   "metadata": {},
   "outputs": [
    {
     "data": {
      "text/plain": [
       "array([[0.00000000e+00, 0.00000000e+00],\n",
       "       [1.00000000e-02, 4.30241442e-01],\n",
       "       [2.00000000e-02, 8.59475951e-01],\n",
       "       [3.00000000e-02, 1.29121471e+00],\n",
       "       [4.00000000e-02, 1.72037720e+00],\n",
       "       [5.00000000e-02, 2.15363226e+00],\n",
       "       [6.00000000e-02, 2.57999254e+00],\n",
       "       [7.00000000e-02, 3.01039340e+00],\n",
       "       [8.00000000e-02, 3.44088382e+00],\n",
       "       [9.00000000e-02, 3.87277408e+00],\n",
       "       [1.00000000e-01, 4.30245863e+00],\n",
       "       [1.10000000e-01, 4.73057044e+00],\n",
       "       [1.20000000e-01, 5.16700540e+00],\n",
       "       [1.30000000e-01, 5.59562848e+00],\n",
       "       [1.40000000e-01, 6.02032254e+00],\n",
       "       [1.50000000e-01, 6.45418469e+00],\n",
       "       [1.60000000e-01, 6.87795408e+00],\n",
       "       [1.70000000e-01, 7.30772007e+00],\n",
       "       [1.80000000e-01, 7.74605902e+00],\n",
       "       [1.90000000e-01, 8.17298536e+00],\n",
       "       [2.00000000e-01, 8.60589155e+00],\n",
       "       [2.10000000e-01, 9.02365587e+00],\n",
       "       [2.20000000e-01, 9.45709242e+00],\n",
       "       [2.30000000e-01, 9.89358402e+00],\n",
       "       [2.40000000e-01, 1.03163037e+01],\n",
       "       [2.50000000e-01, 1.07582894e+01],\n",
       "       [2.60000000e-01, 1.11772608e+01],\n",
       "       [2.70000000e-01, 1.16078483e+01],\n",
       "       [2.80000000e-01, 1.20464979e+01],\n",
       "       [2.90000000e-01, 1.24723040e+01],\n",
       "       [3.00000000e-01, 1.29093300e+01],\n",
       "       [3.10000000e-01, 1.33361643e+01],\n",
       "       [3.20000000e-01, 1.37660337e+01],\n",
       "       [3.30000000e-01, 1.41924914e+01],\n",
       "       [3.40000000e-01, 1.46251196e+01],\n",
       "       [3.50000000e-01, 1.50633509e+01],\n",
       "       [3.60000000e-01, 1.54949567e+01],\n",
       "       [3.70000000e-01, 1.59096657e+01],\n",
       "       [3.80000000e-01, 1.63513773e+01],\n",
       "       [3.90000000e-01, 1.67777161e+01],\n",
       "       [4.00000000e-01, 1.72138378e+01],\n",
       "       [4.10000000e-01, 1.76386728e+01],\n",
       "       [4.20000000e-01, 1.80521572e+01],\n",
       "       [4.30000000e-01, 1.84918004e+01],\n",
       "       [4.40000000e-01, 1.89415004e+01],\n",
       "       [4.50000000e-01, 1.93672057e+01],\n",
       "       [4.60000000e-01, 1.98108847e+01],\n",
       "       [4.70000000e-01, 2.02025381e+01],\n",
       "       [4.80000000e-01, 2.06531542e+01],\n",
       "       [4.90000000e-01, 2.10775723e+01],\n",
       "       [5.00000000e-01, 2.15058442e+01],\n",
       "       [5.10000000e-01, 2.19604455e+01],\n",
       "       [5.20000000e-01, 2.23501256e+01],\n",
       "       [5.30000000e-01, 2.27772647e+01],\n",
       "       [5.40000000e-01, 2.32308734e+01],\n",
       "       [5.50000000e-01, 2.36415239e+01],\n",
       "       [5.60000000e-01, 2.40840778e+01],\n",
       "       [5.70000000e-01, 2.44959810e+01],\n",
       "       [5.80000000e-01, 2.49264551e+01],\n",
       "       [5.90000000e-01, 2.53616383e+01],\n",
       "       [6.00000000e-01, 2.58222724e+01],\n",
       "       [6.10000000e-01, 2.61963877e+01],\n",
       "       [6.20000000e-01, 2.66463878e+01],\n",
       "       [6.30000000e-01, 2.70881661e+01],\n",
       "       [6.40000000e-01, 2.75309436e+01],\n",
       "       [6.50000000e-01, 2.80123885e+01],\n",
       "       [6.60000000e-01, 2.83687662e+01],\n",
       "       [6.70000000e-01, 2.88315658e+01],\n",
       "       [6.80000000e-01, 2.92457515e+01],\n",
       "       [6.90000000e-01, 2.96762712e+01],\n",
       "       [7.00000000e-01, 3.01142246e+01],\n",
       "       [7.10000000e-01, 3.05670499e+01],\n",
       "       [7.20000000e-01, 3.09763222e+01],\n",
       "       [7.30000000e-01, 3.13848780e+01],\n",
       "       [7.40000000e-01, 3.18398224e+01],\n",
       "       [7.50000000e-01, 3.22741649e+01],\n",
       "       [7.60000000e-01, 3.26518026e+01],\n",
       "       [7.70000000e-01, 3.30853915e+01],\n",
       "       [7.80000000e-01, 3.35530217e+01],\n",
       "       [7.90000000e-01, 3.39745421e+01],\n",
       "       [8.00000000e-01, 3.44148639e+01],\n",
       "       [8.10000000e-01, 3.48335879e+01],\n",
       "       [8.20000000e-01, 3.52693311e+01],\n",
       "       [8.30000000e-01, 3.56867275e+01],\n",
       "       [8.40000000e-01, 3.61048288e+01],\n",
       "       [8.50000000e-01, 3.65709579e+01],\n",
       "       [8.60000000e-01, 3.70161533e+01],\n",
       "       [8.70000000e-01, 3.74284508e+01],\n",
       "       [8.80000000e-01, 3.78426044e+01],\n",
       "       [8.90000000e-01, 3.82887949e+01],\n",
       "       [9.00000000e-01, 3.86930225e+01],\n",
       "       [9.10000000e-01, 3.91145471e+01],\n",
       "       [9.20000000e-01, 3.95489003e+01],\n",
       "       [9.30000000e-01, 4.00011825e+01],\n",
       "       [9.40000000e-01, 4.04319188e+01],\n",
       "       [9.50000000e-01, 4.08526459e+01],\n",
       "       [9.60000000e-01, 4.12965263e+01],\n",
       "       [9.70000000e-01, 4.17776629e+01],\n",
       "       [9.80000000e-01, 4.21905968e+01],\n",
       "       [9.90000000e-01, 4.26219728e+01]])"
      ]
     },
     "execution_count": 158,
     "metadata": {},
     "output_type": "execute_result"
    }
   ],
   "source": [
    "erro"
   ]
  },
  {
   "cell_type": "code",
   "execution_count": null,
   "metadata": {},
   "outputs": [],
   "source": []
  },
  {
   "cell_type": "code",
   "execution_count": null,
   "metadata": {},
   "outputs": [],
   "source": []
  },
  {
   "cell_type": "code",
   "execution_count": null,
   "metadata": {},
   "outputs": [],
   "source": []
  },
  {
   "cell_type": "code",
   "execution_count": null,
   "metadata": {},
   "outputs": [],
   "source": []
  },
  {
   "cell_type": "code",
   "execution_count": null,
   "metadata": {},
   "outputs": [],
   "source": []
  },
  {
   "cell_type": "code",
   "execution_count": null,
   "metadata": {},
   "outputs": [],
   "source": []
  },
  {
   "cell_type": "code",
   "execution_count": null,
   "metadata": {},
   "outputs": [],
   "source": []
  },
  {
   "cell_type": "code",
   "execution_count": null,
   "metadata": {},
   "outputs": [],
   "source": []
  },
  {
   "cell_type": "code",
   "execution_count": null,
   "metadata": {},
   "outputs": [],
   "source": []
  }
 ],
 "metadata": {
  "kernelspec": {
   "display_name": "Python 3",
   "language": "python",
   "name": "python3"
  },
  "language_info": {
   "codemirror_mode": {
    "name": "ipython",
    "version": 3
   },
   "file_extension": ".py",
   "mimetype": "text/x-python",
   "name": "python",
   "nbconvert_exporter": "python",
   "pygments_lexer": "ipython3",
   "version": "3.7.3"
  }
 },
 "nbformat": 4,
 "nbformat_minor": 2
}
