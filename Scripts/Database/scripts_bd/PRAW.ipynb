{
 "cells": [
  {
   "cell_type": "code",
   "execution_count": 10,
   "metadata": {},
   "outputs": [],
   "source": [
    "import praw\n",
    "import pprint"
   ]
  },
  {
   "cell_type": "code",
   "execution_count": 11,
   "metadata": {
    "scrolled": true
   },
   "outputs": [
    {
     "ename": "NameError",
     "evalue": "name 'reddit_bot_secret' is not defined",
     "output_type": "error",
     "traceback": [
      "\u001b[0;31m---------------------------------------------------------------------------\u001b[0m",
      "\u001b[0;31mNameError\u001b[0m                                 Traceback (most recent call last)",
      "\u001b[0;32m<ipython-input-11-176a2f5a1dcc>\u001b[0m in \u001b[0;36m<module>\u001b[0;34m\u001b[0m\n\u001b[0;32m----> 1\u001b[0;31m \u001b[0mreddit_bot_secret\u001b[0m\u001b[0;34m\u001b[0m\u001b[0;34m\u001b[0m\u001b[0m\n\u001b[0m",
      "\u001b[0;31mNameError\u001b[0m: name 'reddit_bot_secret' is not defined"
     ]
    }
   ],
   "source": [
    "reddit_bot_secret"
   ]
  },
  {
   "cell_type": "code",
   "execution_count": 12,
   "metadata": {},
   "outputs": [
    {
     "name": "stdout",
     "output_type": "stream",
     "text": [
      "True\n"
     ]
    }
   ],
   "source": [
    "reddit = praw.Reddit(client_id='TADWcvi74CnuJg',\n",
    "                     client_secret='BvPg9JgtZlFHO3L0x5mQdsBGU-0',user_agent='depreshow' \n",
    "#                    ,password=reddit_pass, username=reddit_user   ---ADICIONE A LINHA PARA SAIR DO MODO READONLY\n",
    "                    )\n",
    "print(reddit.read_only)"
   ]
  },
  {
   "cell_type": "code",
   "execution_count": 13,
   "metadata": {},
   "outputs": [
    {
     "name": "stdout",
     "output_type": "stream",
     "text": [
      "depression\n",
      "/r/depression, because nobody should be alone in a dark place\n"
     ]
    }
   ],
   "source": [
    "subDepression = reddit.subreddit('depression')\n",
    "print(subDepression.display_name)\n",
    "print(subDepression.title)"
   ]
  },
  {
   "cell_type": "code",
   "execution_count": 14,
   "metadata": {},
   "outputs": [],
   "source": [
    "counter = 0\n",
    "threads = []\n",
    "threadst3 = []\n",
    "for submission in subDepression.hot(limit=10):\n",
    "    counter +=1\n",
    "    threads += [submission.id]"
   ]
  },
  {
   "cell_type": "code",
   "execution_count": 15,
   "metadata": {
    "scrolled": true
   },
   "outputs": [],
   "source": [
    "for i in range(len(threads)):\n",
    "    threadst3 += [\"t3_\" + threads[i]]"
   ]
  },
  {
   "cell_type": "code",
   "execution_count": 16,
   "metadata": {},
   "outputs": [
    {
     "data": {
      "text/plain": [
       "['t3_9er34n',\n",
       " 't3_anh7tv',\n",
       " 't3_c8ij3y',\n",
       " 't3_c8mnay',\n",
       " 't3_c8anzi',\n",
       " 't3_c8iacy',\n",
       " 't3_c8m2cy',\n",
       " 't3_c8oyxc',\n",
       " 't3_c8c24t',\n",
       " 't3_c8ixia']"
      ]
     },
     "execution_count": 16,
     "metadata": {},
     "output_type": "execute_result"
    }
   ],
   "source": [
    "threadst3"
   ]
  },
  {
   "cell_type": "code",
   "execution_count": 17,
   "metadata": {},
   "outputs": [],
   "source": [
    "threadst3 += [\"t3_\" + \"c09aaa\"]"
   ]
  },
  {
   "cell_type": "code",
   "execution_count": 18,
   "metadata": {},
   "outputs": [
    {
     "name": "stdout",
     "output_type": "stream",
     "text": [
      "Reminder: NO ACTIVISM is allowed here at any time.\n",
      "Regular Check-In Post\n",
      "I’m willingly leaving my house for the first time in over 6 months\n",
      "i finally got a job\n",
      "Two days ago I was feeling amazing, the best I ever have and now I am miserable and want to die. Wtf brain.\n",
      "I absolutely smashed my interview today\n",
      "Does anyone else stay up super late to avoid being alone with their thoughts trying to fall asleep?\n",
      "I’ve started talking my dog out for walks in the mornings\n",
      "Do you ever have such low self esteem that you think other people lie when they compliment you?\n",
      "Does anyone else just have the urge to leave?\n",
      "Little more bathroom [f]un before lunch today, same panties as requested 😛\n",
      "CPU times: user 15.3 ms, sys: 0 ns, total: 15.3 ms\n",
      "Wall time: 279 ms\n"
     ]
    }
   ],
   "source": [
    "%%time\n",
    "counter = 0\n",
    "resultado_final = []\n",
    "for a in reddit.info(fullnames=threadst3):\n",
    "    print(a.title)\n",
    "    counter += 1\n",
    "    resultado_final += [a]"
   ]
  },
  {
   "cell_type": "code",
   "execution_count": 21,
   "metadata": {},
   "outputs": [
    {
     "data": {
      "text/plain": [
       "<praw.models.comment_forest.CommentForest at 0x7f81f8bc5080>"
      ]
     },
     "execution_count": 21,
     "metadata": {},
     "output_type": "execute_result"
    }
   ],
   "source": [
    "vars(resultado_final[1])\n",
    "resultado_final[1].comments"
   ]
  },
  {
   "cell_type": "code",
   "execution_count": 22,
   "metadata": {},
   "outputs": [
    {
     "data": {
      "text/plain": [
       "<praw.models.comment_forest.CommentForest at 0x7f81f8bc5080>"
      ]
     },
     "execution_count": 22,
     "metadata": {},
     "output_type": "execute_result"
    }
   ],
   "source": [
    "resultado_final[1].comments"
   ]
  },
  {
   "cell_type": "code",
   "execution_count": null,
   "metadata": {},
   "outputs": [],
   "source": []
  },
  {
   "cell_type": "code",
   "execution_count": null,
   "metadata": {},
   "outputs": [],
   "source": []
  },
  {
   "cell_type": "code",
   "execution_count": null,
   "metadata": {},
   "outputs": [],
   "source": []
  },
  {
   "cell_type": "code",
   "execution_count": null,
   "metadata": {},
   "outputs": [],
   "source": []
  },
  {
   "cell_type": "code",
   "execution_count": null,
   "metadata": {},
   "outputs": [],
   "source": []
  },
  {
   "cell_type": "code",
   "execution_count": 224,
   "metadata": {},
   "outputs": [
    {
     "name": "stdout",
     "output_type": "stream",
     "text": [
      "CPU times: user 980 ms, sys: 14.9 ms, total: 994 ms\n",
      "Wall time: 38.1 s\n"
     ]
    }
   ],
   "source": [
    "%%time\n",
    "resultado_final_unitario = []\n",
    "for a in threads:\n",
    "    bla = reddit.submission(id=a)\n",
    "    bla.title\n",
    "    resultado_final_unitario += [bla]"
   ]
  },
  {
   "cell_type": "code",
   "execution_count": 175,
   "metadata": {},
   "outputs": [
    {
     "data": {
      "text/plain": [
       "{'_reddit': <praw.reddit.Reddit at 0x7f3a778912e8>,\n",
       " '_fetched': True,\n",
       " 'comment_limit': 2048,\n",
       " 'comment_sort': 'best',\n",
       " 'id': '720kcr',\n",
       " '_comments_by_id': {'t1_dnettbf': Comment(id='dnettbf'),\n",
       "  't1_dnez93t': Comment(id='dnez93t'),\n",
       "  't1_dnf3hzm': Comment(id='dnf3hzm'),\n",
       "  't1_dnf54k0': Comment(id='dnf54k0'),\n",
       "  't1_dnf5jlg': Comment(id='dnf5jlg'),\n",
       "  't1_dnfi1li': Comment(id='dnfi1li'),\n",
       "  't1_dnfj3ey': Comment(id='dnfj3ey'),\n",
       "  't1_dnfyk23': Comment(id='dnfyk23'),\n",
       "  't1_dng26mq': Comment(id='dng26mq'),\n",
       "  't1_dng52a6': Comment(id='dng52a6'),\n",
       "  't1_dngb579': Comment(id='dngb579'),\n",
       "  't1_dqsisbo': Comment(id='dqsisbo'),\n",
       "  't1_dnf7ko9': Comment(id='dnf7ko9'),\n",
       "  't1_dnf7tic': Comment(id='dnf7tic'),\n",
       "  't1_dnf7wpo': Comment(id='dnf7wpo'),\n",
       "  't1_doc5yec': Comment(id='doc5yec'),\n",
       "  't1_doc69tt': Comment(id='doc69tt'),\n",
       "  't1_dpij2xg': Comment(id='dpij2xg'),\n",
       "  't1_doy7ab3': Comment(id='doy7ab3'),\n",
       "  't1_doynkpb': Comment(id='doynkpb'),\n",
       "  't1_dnf7htv': Comment(id='dnf7htv'),\n",
       "  't1_dnfgv5y': Comment(id='dnfgv5y'),\n",
       "  't1_dng10hu': Comment(id='dng10hu'),\n",
       "  't1_dnex6dm': Comment(id='dnex6dm'),\n",
       "  't1_dnf25x8': Comment(id='dnf25x8'),\n",
       "  't1_dnfabxi': Comment(id='dnfabxi'),\n",
       "  't1_dnfeth2': Comment(id='dnfeth2'),\n",
       "  't1_dngjo4h': Comment(id='dngjo4h'),\n",
       "  't1_dnfep43': Comment(id='dnfep43'),\n",
       "  't1_dnfelmx': Comment(id='dnfelmx'),\n",
       "  't1_dnfjy2e': Comment(id='dnfjy2e'),\n",
       "  't1_dnf78bs': Comment(id='dnf78bs'),\n",
       "  't1_dnfk01k': Comment(id='dnfk01k'),\n",
       "  't1_dnex4io': Comment(id='dnex4io'),\n",
       "  't1_dnqu2og': Comment(id='dnqu2og'),\n",
       "  't1_dnquryd': Comment(id='dnquryd'),\n",
       "  't1_dsift3w': Comment(id='dsift3w'),\n",
       "  't1_dnf0ri3': Comment(id='dnf0ri3'),\n",
       "  't1_dnfc2ge': Comment(id='dnfc2ge'),\n",
       "  't1_dnfvch2': Comment(id='dnfvch2'),\n",
       "  't1_dnf34v8': Comment(id='dnf34v8'),\n",
       "  't1_dnevcby': Comment(id='dnevcby'),\n",
       "  't1_dnez5zt': Comment(id='dnez5zt'),\n",
       "  't1_dnf0rdx': Comment(id='dnf0rdx'),\n",
       "  't1_dnf5oxb': Comment(id='dnf5oxb'),\n",
       "  't1_dnfis6j': Comment(id='dnfis6j'),\n",
       "  't1_dnqu642': Comment(id='dnqu642'),\n",
       "  't1_dntl3kv': Comment(id='dntl3kv'),\n",
       "  't1_ds6evue': Comment(id='ds6evue'),\n",
       "  't1_dneyn6k': Comment(id='dneyn6k'),\n",
       "  't1_dnfk59z': Comment(id='dnfk59z'),\n",
       "  't1_dupld63': Comment(id='dupld63'),\n",
       "  't1_dnf7rpw': Comment(id='dnf7rpw'),\n",
       "  't1_dneum29': Comment(id='dneum29'),\n",
       "  't1_dnfld5c': Comment(id='dnfld5c'),\n",
       "  't1_dupljik': Comment(id='dupljik'),\n",
       "  't1_dnexgmr': Comment(id='dnexgmr'),\n",
       "  't1_dnf7set': Comment(id='dnf7set'),\n",
       "  't1_dnfbtvy': Comment(id='dnfbtvy'),\n",
       "  't1_dnfgsnj': Comment(id='dnfgsnj'),\n",
       "  't1_dnfh6zo': Comment(id='dnfh6zo'),\n",
       "  't1_dnfitmf': Comment(id='dnfitmf'),\n",
       "  't1_dnfuatk': Comment(id='dnfuatk'),\n",
       "  't1_dngx4ib': Comment(id='dngx4ib'),\n",
       "  't1_dngx7f3': Comment(id='dngx7f3'),\n",
       "  't1_dnfvmwn': Comment(id='dnfvmwn'),\n",
       "  't1_dneunwf': Comment(id='dneunwf'),\n",
       "  't1_dnevflk': Comment(id='dnevflk'),\n",
       "  't1_dngtudh': Comment(id='dngtudh'),\n",
       "  't1_dneufh1': Comment(id='dneufh1'),\n",
       "  't1_dnfkpv6': Comment(id='dnfkpv6'),\n",
       "  't1_dnevqdn': Comment(id='dnevqdn'),\n",
       "  't1_dnfjg9o': Comment(id='dnfjg9o'),\n",
       "  't1_dospbbx': Comment(id='dospbbx'),\n",
       "  't1_dnfceq0': Comment(id='dnfceq0'),\n",
       "  't1_dnfdner': Comment(id='dnfdner'),\n",
       "  't1_dnf0si7': Comment(id='dnf0si7'),\n",
       "  't1_dnfiffr': Comment(id='dnfiffr'),\n",
       "  't1_duo9zna': Comment(id='duo9zna'),\n",
       "  't1_dnf9h0v': Comment(id='dnf9h0v'),\n",
       "  't1_dneudys': Comment(id='dneudys'),\n",
       "  't1_dnf1qe1': Comment(id='dnf1qe1'),\n",
       "  't1_dnf1wff': Comment(id='dnf1wff'),\n",
       "  't1_dnexw3z': Comment(id='dnexw3z'),\n",
       "  't1_dneviyg': Comment(id='dneviyg'),\n",
       "  't1_dnexpzs': Comment(id='dnexpzs'),\n",
       "  't1_dneyfxk': Comment(id='dneyfxk'),\n",
       "  't1_dnf0uj1': Comment(id='dnf0uj1'),\n",
       "  't1_dnf3651': Comment(id='dnf3651'),\n",
       "  't1_dnfksrg': Comment(id='dnfksrg'),\n",
       "  't1_dnict9d': Comment(id='dnict9d'),\n",
       "  't1_dnev6v5': Comment(id='dnev6v5'),\n",
       "  't1_dnexoz9': Comment(id='dnexoz9'),\n",
       "  't1_dnfjql7': Comment(id='dnfjql7'),\n",
       "  't1_dnfx6eh': Comment(id='dnfx6eh'),\n",
       "  't1_dng5lpu': Comment(id='dng5lpu'),\n",
       "  't1_dng7wm9': Comment(id='dng7wm9'),\n",
       "  't1_dng9i7z': Comment(id='dng9i7z'),\n",
       "  't1_dnfflx0': Comment(id='dnfflx0'),\n",
       "  't1_dnfho3z': Comment(id='dnfho3z'),\n",
       "  't1_dnevt1r': Comment(id='dnevt1r'),\n",
       "  't1_dnf2g1x': Comment(id='dnf2g1x'),\n",
       "  't1_dnf32bu': Comment(id='dnf32bu'),\n",
       "  't1_dnf32vj': Comment(id='dnf32vj'),\n",
       "  't1_dnfnobc': Comment(id='dnfnobc'),\n",
       "  't1_dngjlh4': Comment(id='dngjlh4'),\n",
       "  't1_dnjjrjs': Comment(id='dnjjrjs'),\n",
       "  't1_dqvmqux': Comment(id='dqvmqux'),\n",
       "  't1_dneyhq2': Comment(id='dneyhq2'),\n",
       "  't1_dneuyus': Comment(id='dneuyus'),\n",
       "  't1_dnex12q': Comment(id='dnex12q'),\n",
       "  't1_dnexbfs': Comment(id='dnexbfs'),\n",
       "  't1_dnf1nqg': Comment(id='dnf1nqg'),\n",
       "  't1_dnf2gdu': Comment(id='dnf2gdu'),\n",
       "  't1_dnf3119': Comment(id='dnf3119'),\n",
       "  't1_dnf55er': Comment(id='dnf55er'),\n",
       "  't1_dnfliwa': Comment(id='dnfliwa'),\n",
       "  't1_dnfwkqb': Comment(id='dnfwkqb'),\n",
       "  't1_dng7fdi': Comment(id='dng7fdi'),\n",
       "  't1_dngjd87': Comment(id='dngjd87'),\n",
       "  't1_dnjkctc': Comment(id='dnjkctc'),\n",
       "  't1_dogq5lf': Comment(id='dogq5lf'),\n",
       "  't1_dtsnl4k': Comment(id='dtsnl4k'),\n",
       "  't1_du6weqw': Comment(id='du6weqw'),\n",
       "  't1_dnf0h23': Comment(id='dnf0h23'),\n",
       "  't1_dnf2quw': Comment(id='dnf2quw'),\n",
       "  't1_dnf2sjy': Comment(id='dnf2sjy'),\n",
       "  't1_dnf40f9': Comment(id='dnf40f9'),\n",
       "  't1_dnf4kp5': Comment(id='dnf4kp5'),\n",
       "  't1_dnf4u2t': Comment(id='dnf4u2t'),\n",
       "  't1_dnf6aly': Comment(id='dnf6aly'),\n",
       "  't1_dnf8ce1': Comment(id='dnf8ce1'),\n",
       "  't1_dnfbxun': Comment(id='dnfbxun'),\n",
       "  't1_dnfdfgq': Comment(id='dnfdfgq'),\n",
       "  't1_dnfezcu': Comment(id='dnfezcu'),\n",
       "  't1_dnfff78': Comment(id='dnfff78'),\n",
       "  't1_dnfhl32': Comment(id='dnfhl32'),\n",
       "  't1_dnfhndu': Comment(id='dnfhndu'),\n",
       "  't1_dnfhvgb': Comment(id='dnfhvgb'),\n",
       "  't1_dnfhvld': Comment(id='dnfhvld'),\n",
       "  't1_dnfhy9l': Comment(id='dnfhy9l'),\n",
       "  't1_dnfiapm': Comment(id='dnfiapm'),\n",
       "  't1_dnfk66s': Comment(id='dnfk66s'),\n",
       "  't1_dnfkbho': Comment(id='dnfkbho'),\n",
       "  't1_dnflk52': Comment(id='dnflk52'),\n",
       "  't1_dnfkvnm': Comment(id='dnfkvnm'),\n",
       "  't1_dnfljer': Comment(id='dnfljer'),\n",
       "  't1_dnfmj91': Comment(id='dnfmj91'),\n",
       "  't1_dnfmsan': Comment(id='dnfmsan'),\n",
       "  't1_dnfn9r9': Comment(id='dnfn9r9'),\n",
       "  't1_dnfs1dt': Comment(id='dnfs1dt'),\n",
       "  't1_dnfsyxl': Comment(id='dnfsyxl'),\n",
       "  't1_dnfv1cq': Comment(id='dnfv1cq'),\n",
       "  't1_dnfvu9n': Comment(id='dnfvu9n'),\n",
       "  't1_dnfyoj8': Comment(id='dnfyoj8'),\n",
       "  't1_dnfyvj1': Comment(id='dnfyvj1'),\n",
       "  't1_dnfzwrp': Comment(id='dnfzwrp'),\n",
       "  't1_dng6ocs': Comment(id='dng6ocs'),\n",
       "  't1_dng80nn': Comment(id='dng80nn'),\n",
       "  't1_dngcuh8': Comment(id='dngcuh8'),\n",
       "  't1_dngdkd3': Comment(id='dngdkd3'),\n",
       "  't1_dngibf1': Comment(id='dngibf1'),\n",
       "  't1_dngns8i': Comment(id='dngns8i'),\n",
       "  't1_dngu1up': Comment(id='dngu1up'),\n",
       "  't1_dngv1os': Comment(id='dngv1os'),\n",
       "  't1_dngyn8h': Comment(id='dngyn8h'),\n",
       "  't1_dp2de0n': Comment(id='dp2de0n'),\n",
       "  't1_dpbdf45': Comment(id='dpbdf45'),\n",
       "  't1_dr3pmac': Comment(id='dr3pmac'),\n",
       "  't1_dr761yr': Comment(id='dr761yr'),\n",
       "  't1_dreyhw6': Comment(id='dreyhw6'),\n",
       "  't1_ds7vw2t': Comment(id='ds7vw2t'),\n",
       "  't1_dscc3n1': Comment(id='dscc3n1'),\n",
       "  't1_duwsvnu': Comment(id='duwsvnu'),\n",
       "  't1_dv55y3m': Comment(id='dv55y3m'),\n",
       "  't1_dv5ki2f': Comment(id='dv5ki2f'),\n",
       "  't1_dvbwlt4': Comment(id='dvbwlt4'),\n",
       "  't1_dnf7me7': Comment(id='dnf7me7'),\n",
       "  't1_dnf4vxl': Comment(id='dnf4vxl'),\n",
       "  't1_dnfrl6k': Comment(id='dnfrl6k')},\n",
       " 'approved_at_utc': None,\n",
       " 'subreddit': Subreddit(display_name='depression'),\n",
       " 'selftext': \"Does anyone else feel this way?  This has been crossing my mind a lot lately\\n\\nEDIT: I just want to thank everyone for the thoughtful, kind comments I've been recieving.  It's been a nice change and I really appreciate it.  You guys are the best.  :)\",\n",
       " 'user_reports': [],\n",
       " 'saved': False,\n",
       " 'mod_reason_title': None,\n",
       " 'gilded': 0,\n",
       " 'clicked': False,\n",
       " 'title': \"I wouldn't commit suicide but if I had an option to suddenly stop existing I would choose it\",\n",
       " 'link_flair_richtext': [],\n",
       " 'subreddit_name_prefixed': 'r/depression',\n",
       " 'hidden': False,\n",
       " 'pwls': 0,\n",
       " 'link_flair_css_class': None,\n",
       " 'downs': 0,\n",
       " 'thumbnail_height': None,\n",
       " 'parent_whitelist_status': 'no_ads',\n",
       " 'hide_score': False,\n",
       " 'name': 't3_720kcr',\n",
       " 'quarantine': False,\n",
       " 'link_flair_text_color': 'dark',\n",
       " 'upvote_ratio': 1.0,\n",
       " 'author_flair_background_color': None,\n",
       " 'subreddit_type': 'public',\n",
       " 'ups': 3806,\n",
       " 'total_awards_received': 0,\n",
       " 'media_embed': {},\n",
       " 'thumbnail_width': None,\n",
       " 'author_flair_template_id': None,\n",
       " 'is_original_content': False,\n",
       " 'author_fullname': 't2_gx2rh',\n",
       " 'secure_media': None,\n",
       " 'is_reddit_media_domain': False,\n",
       " 'is_meta': False,\n",
       " 'category': None,\n",
       " 'secure_media_embed': {},\n",
       " 'link_flair_text': None,\n",
       " 'can_mod_post': False,\n",
       " 'num_duplicates': 0,\n",
       " 'approved_by': None,\n",
       " 'thumbnail': 'self',\n",
       " 'edited': 1506228910.0,\n",
       " 'author_flair_css_class': None,\n",
       " 'author_flair_richtext': [],\n",
       " 'gildings': {},\n",
       " 'content_categories': None,\n",
       " 'is_self': True,\n",
       " 'mod_note': None,\n",
       " 'created': 1506225855.0,\n",
       " 'link_flair_type': 'text',\n",
       " 'wls': 0,\n",
       " 'banned_by': None,\n",
       " 'author_flair_type': 'text',\n",
       " 'domain': 'self.depression',\n",
       " 'selftext_html': '<!-- SC_OFF --><div class=\"md\"><p>Does anyone else feel this way?  This has been crossing my mind a lot lately</p>\\n\\n<p>EDIT: I just want to thank everyone for the thoughtful, kind comments I&#39;ve been recieving.  It&#39;s been a nice change and I really appreciate it.  You guys are the best.  :)</p>\\n</div><!-- SC_ON -->',\n",
       " 'likes': None,\n",
       " 'suggested_sort': 'confidence',\n",
       " 'banned_at_utc': None,\n",
       " 'view_count': None,\n",
       " 'archived': True,\n",
       " 'score': 3806,\n",
       " 'no_follow': False,\n",
       " 'is_crosspostable': False,\n",
       " 'pinned': False,\n",
       " 'over_18': False,\n",
       " 'all_awardings': [],\n",
       " 'media': None,\n",
       " 'media_only': False,\n",
       " 'can_gild': False,\n",
       " 'spoiler': False,\n",
       " 'locked': False,\n",
       " 'author_flair_text': None,\n",
       " 'visited': False,\n",
       " 'num_reports': None,\n",
       " 'distinguished': None,\n",
       " 'subreddit_id': 't5_2qqqf',\n",
       " 'mod_reason_by': None,\n",
       " 'removal_reason': None,\n",
       " 'link_flair_background_color': '',\n",
       " 'is_robot_indexable': True,\n",
       " 'report_reasons': None,\n",
       " 'author': Redditor(name='Tastylicious'),\n",
       " 'num_crossposts': 0,\n",
       " 'num_comments': 181,\n",
       " 'send_replies': True,\n",
       " 'contest_mode': False,\n",
       " 'author_patreon_flair': False,\n",
       " 'author_flair_text_color': None,\n",
       " 'permalink': '/r/depression/comments/720kcr/i_wouldnt_commit_suicide_but_if_i_had_an_option/',\n",
       " 'whitelist_status': 'no_ads',\n",
       " 'stickied': False,\n",
       " 'url': 'https://www.reddit.com/r/depression/comments/720kcr/i_wouldnt_commit_suicide_but_if_i_had_an_option/',\n",
       " 'subreddit_subscribers': 503382,\n",
       " 'created_utc': 1506197055.0,\n",
       " 'discussion_type': None,\n",
       " 'mod_reports': [],\n",
       " 'is_video': False,\n",
       " '_comments': <praw.models.comment_forest.CommentForest at 0x7f3a7502b390>}"
      ]
     },
     "execution_count": 175,
     "metadata": {},
     "output_type": "execute_result"
    }
   ],
   "source": [
    "vars(submission)"
   ]
  },
  {
   "cell_type": "code",
   "execution_count": null,
   "metadata": {},
   "outputs": [],
   "source": []
  },
  {
   "cell_type": "code",
   "execution_count": null,
   "metadata": {},
   "outputs": [],
   "source": []
  }
 ],
 "metadata": {
  "kernelspec": {
   "display_name": "Python 3",
   "language": "python",
   "name": "python3"
  },
  "language_info": {
   "codemirror_mode": {
    "name": "ipython",
    "version": 3
   },
   "file_extension": ".py",
   "mimetype": "text/x-python",
   "name": "python",
   "nbconvert_exporter": "python",
   "pygments_lexer": "ipython3",
   "version": "3.7.3"
  }
 },
 "nbformat": 4,
 "nbformat_minor": 2
}
