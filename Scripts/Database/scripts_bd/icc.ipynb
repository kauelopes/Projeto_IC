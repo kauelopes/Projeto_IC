{
 "cells": [
  {
   "cell_type": "code",
   "execution_count": 1,
   "metadata": {},
   "outputs": [],
   "source": [
    "import math\n",
    "import json\n",
    "import requests\n",
    "import itertools\n",
    "import numpy as np\n",
    "import time\n",
    "from datetime import datetime, timedelta\n",
    "import pymongo\n",
    "from pymongo import MongoClient\n",
    "import praw\n",
    "import pprint"
   ]
  },
  {
   "cell_type": "code",
   "execution_count": 2,
   "metadata": {},
   "outputs": [
    {
     "name": "stdout",
     "output_type": "stream",
     "text": [
      "True\n"
     ]
    }
   ],
   "source": [
    "reddit = praw.Reddit(client_id='TADWcvi74CnuJg',\n",
    "                     client_secret='BvPg9JgtZlFHO3L0x5mQdsBGU-0',user_agent='depreshow' \n",
    "#                    ,password=reddit_pass, username=reddit_user   ---ADICIONE A LINHA PARA SAIR DO MODO READONLY\n",
    "                    )\n",
    "print(reddit.read_only)"
   ]
  },
  {
   "cell_type": "markdown",
   "metadata": {},
   "source": [
    "## Database Connection\n"
   ]
  },
  {
   "cell_type": "markdown",
   "metadata": {},
   "source": [
    "making the proper connections on the database dividing the 3 collections: <br>\n",
    "    -posts from icb (db_icb_posts)<br>\n",
    "    -posts from icc (db_icc_posts)<br>\n",
    "    -comments from icc (db_icc_comments)<br>\n",
    "for security reasons we dont make any modification on bd icb"
   ]
  },
  {
   "cell_type": "code",
   "execution_count": 3,
   "metadata": {},
   "outputs": [],
   "source": [
    "db_client = MongoClient('localhost', 27017)\n",
    "db_icb = db_client.icb\n",
    "db_icb_posts = db_icb.posts\n",
    "db_icc = db_client.icc\n",
    "db_icc_posts = db_icc.posts\n",
    "db_icc_comments = db_icc.comments"
   ]
  },
  {
   "cell_type": "markdown",
   "metadata": {},
   "source": [
    "Below we're making the transference of posts from icb to icc, and creating a new field called 'dc', which marks if we have already done the ´Download of Comments' from that post"
   ]
  },
  {
   "cell_type": "code",
   "execution_count": 625,
   "metadata": {
    "collapsed": true
   },
   "outputs": [
    {
     "ename": "BulkWriteError",
     "evalue": "batch op errors occurred",
     "output_type": "error",
     "traceback": [
      "\u001b[0;31m---------------------------------------------------------------------------\u001b[0m",
      "\u001b[0;31mBulkWriteError\u001b[0m                            Traceback (most recent call last)",
      "\u001b[0;32m<ipython-input-625-88be2c5a70af>\u001b[0m in \u001b[0;36m<module>\u001b[0;34m\u001b[0m\n\u001b[1;32m      9\u001b[0m         \u001b[0mbatch\u001b[0m \u001b[0;34m+=\u001b[0m \u001b[0;34m[\u001b[0m\u001b[0mtmp\u001b[0m\u001b[0;34m]\u001b[0m\u001b[0;34m\u001b[0m\u001b[0;34m\u001b[0m\u001b[0m\n\u001b[1;32m     10\u001b[0m     \u001b[0mcounter\u001b[0m \u001b[0;34m+=\u001b[0m\u001b[0;36m150\u001b[0m\u001b[0;34m\u001b[0m\u001b[0;34m\u001b[0m\u001b[0m\n\u001b[0;32m---> 11\u001b[0;31m     \u001b[0mdb_icc_posts\u001b[0m\u001b[0;34m.\u001b[0m\u001b[0minsert_many\u001b[0m\u001b[0;34m(\u001b[0m\u001b[0mbatch\u001b[0m\u001b[0;34m)\u001b[0m\u001b[0;34m\u001b[0m\u001b[0;34m\u001b[0m\u001b[0m\n\u001b[0m\u001b[1;32m     12\u001b[0m     \u001b[0;32mif\u001b[0m\u001b[0;34m(\u001b[0m\u001b[0mcounter\u001b[0m\u001b[0;34m%\u001b[0m\u001b[0;36m1500\u001b[0m \u001b[0;34m==\u001b[0m \u001b[0;36m0\u001b[0m\u001b[0;34m)\u001b[0m\u001b[0;34m:\u001b[0m\u001b[0;34m\u001b[0m\u001b[0;34m\u001b[0m\u001b[0m\n\u001b[1;32m     13\u001b[0m         \u001b[0mprint\u001b[0m\u001b[0;34m(\u001b[0m\u001b[0mcounter\u001b[0m\u001b[0;34m)\u001b[0m\u001b[0;34m\u001b[0m\u001b[0;34m\u001b[0m\u001b[0m\n",
      "\u001b[0;32m/usr/local/lib/python3.6/dist-packages/pymongo/collection.py\u001b[0m in \u001b[0;36minsert_many\u001b[0;34m(self, documents, ordered, bypass_document_validation, session)\u001b[0m\n\u001b[1;32m    758\u001b[0m         \u001b[0mblk\u001b[0m \u001b[0;34m=\u001b[0m \u001b[0m_Bulk\u001b[0m\u001b[0;34m(\u001b[0m\u001b[0mself\u001b[0m\u001b[0;34m,\u001b[0m \u001b[0mordered\u001b[0m\u001b[0;34m,\u001b[0m \u001b[0mbypass_document_validation\u001b[0m\u001b[0;34m)\u001b[0m\u001b[0;34m\u001b[0m\u001b[0;34m\u001b[0m\u001b[0m\n\u001b[1;32m    759\u001b[0m         \u001b[0mblk\u001b[0m\u001b[0;34m.\u001b[0m\u001b[0mops\u001b[0m \u001b[0;34m=\u001b[0m \u001b[0;34m[\u001b[0m\u001b[0mdoc\u001b[0m \u001b[0;32mfor\u001b[0m \u001b[0mdoc\u001b[0m \u001b[0;32min\u001b[0m \u001b[0mgen\u001b[0m\u001b[0;34m(\u001b[0m\u001b[0;34m)\u001b[0m\u001b[0;34m]\u001b[0m\u001b[0;34m\u001b[0m\u001b[0;34m\u001b[0m\u001b[0m\n\u001b[0;32m--> 760\u001b[0;31m         \u001b[0mblk\u001b[0m\u001b[0;34m.\u001b[0m\u001b[0mexecute\u001b[0m\u001b[0;34m(\u001b[0m\u001b[0mwrite_concern\u001b[0m\u001b[0;34m,\u001b[0m \u001b[0msession\u001b[0m\u001b[0;34m=\u001b[0m\u001b[0msession\u001b[0m\u001b[0;34m)\u001b[0m\u001b[0;34m\u001b[0m\u001b[0;34m\u001b[0m\u001b[0m\n\u001b[0m\u001b[1;32m    761\u001b[0m         \u001b[0;32mreturn\u001b[0m \u001b[0mInsertManyResult\u001b[0m\u001b[0;34m(\u001b[0m\u001b[0minserted_ids\u001b[0m\u001b[0;34m,\u001b[0m \u001b[0mwrite_concern\u001b[0m\u001b[0;34m.\u001b[0m\u001b[0macknowledged\u001b[0m\u001b[0;34m)\u001b[0m\u001b[0;34m\u001b[0m\u001b[0;34m\u001b[0m\u001b[0m\n\u001b[1;32m    762\u001b[0m \u001b[0;34m\u001b[0m\u001b[0m\n",
      "\u001b[0;32m/usr/local/lib/python3.6/dist-packages/pymongo/bulk.py\u001b[0m in \u001b[0;36mexecute\u001b[0;34m(self, write_concern, session)\u001b[0m\n\u001b[1;32m    520\u001b[0m                 \u001b[0mself\u001b[0m\u001b[0;34m.\u001b[0m\u001b[0mexecute_no_results\u001b[0m\u001b[0;34m(\u001b[0m\u001b[0msock_info\u001b[0m\u001b[0;34m,\u001b[0m \u001b[0mgenerator\u001b[0m\u001b[0;34m)\u001b[0m\u001b[0;34m\u001b[0m\u001b[0;34m\u001b[0m\u001b[0m\n\u001b[1;32m    521\u001b[0m         \u001b[0;32melse\u001b[0m\u001b[0;34m:\u001b[0m\u001b[0;34m\u001b[0m\u001b[0;34m\u001b[0m\u001b[0m\n\u001b[0;32m--> 522\u001b[0;31m             \u001b[0;32mreturn\u001b[0m \u001b[0mself\u001b[0m\u001b[0;34m.\u001b[0m\u001b[0mexecute_command\u001b[0m\u001b[0;34m(\u001b[0m\u001b[0mgenerator\u001b[0m\u001b[0;34m,\u001b[0m \u001b[0mwrite_concern\u001b[0m\u001b[0;34m,\u001b[0m \u001b[0msession\u001b[0m\u001b[0;34m)\u001b[0m\u001b[0;34m\u001b[0m\u001b[0;34m\u001b[0m\u001b[0m\n\u001b[0m\u001b[1;32m    523\u001b[0m \u001b[0;34m\u001b[0m\u001b[0m\n\u001b[1;32m    524\u001b[0m \u001b[0;34m\u001b[0m\u001b[0m\n",
      "\u001b[0;32m/usr/local/lib/python3.6/dist-packages/pymongo/bulk.py\u001b[0m in \u001b[0;36mexecute_command\u001b[0;34m(self, generator, write_concern, session)\u001b[0m\n\u001b[1;32m    348\u001b[0m \u001b[0;34m\u001b[0m\u001b[0m\n\u001b[1;32m    349\u001b[0m         \u001b[0;32mif\u001b[0m \u001b[0mfull_result\u001b[0m\u001b[0;34m[\u001b[0m\u001b[0;34m\"writeErrors\"\u001b[0m\u001b[0;34m]\u001b[0m \u001b[0;32mor\u001b[0m \u001b[0mfull_result\u001b[0m\u001b[0;34m[\u001b[0m\u001b[0;34m\"writeConcernErrors\"\u001b[0m\u001b[0;34m]\u001b[0m\u001b[0;34m:\u001b[0m\u001b[0;34m\u001b[0m\u001b[0;34m\u001b[0m\u001b[0m\n\u001b[0;32m--> 350\u001b[0;31m             \u001b[0m_raise_bulk_write_error\u001b[0m\u001b[0;34m(\u001b[0m\u001b[0mfull_result\u001b[0m\u001b[0;34m)\u001b[0m\u001b[0;34m\u001b[0m\u001b[0;34m\u001b[0m\u001b[0m\n\u001b[0m\u001b[1;32m    351\u001b[0m         \u001b[0;32mreturn\u001b[0m \u001b[0mfull_result\u001b[0m\u001b[0;34m\u001b[0m\u001b[0;34m\u001b[0m\u001b[0m\n\u001b[1;32m    352\u001b[0m \u001b[0;34m\u001b[0m\u001b[0m\n",
      "\u001b[0;32m/usr/local/lib/python3.6/dist-packages/pymongo/bulk.py\u001b[0m in \u001b[0;36m_raise_bulk_write_error\u001b[0;34m(full_result)\u001b[0m\n\u001b[1;32m    138\u001b[0m         full_result[\"writeErrors\"].sort(\n\u001b[1;32m    139\u001b[0m             key=lambda error: error[\"index\"])\n\u001b[0;32m--> 140\u001b[0;31m     \u001b[0;32mraise\u001b[0m \u001b[0mBulkWriteError\u001b[0m\u001b[0;34m(\u001b[0m\u001b[0mfull_result\u001b[0m\u001b[0;34m)\u001b[0m\u001b[0;34m\u001b[0m\u001b[0;34m\u001b[0m\u001b[0m\n\u001b[0m\u001b[1;32m    141\u001b[0m \u001b[0;34m\u001b[0m\u001b[0m\n\u001b[1;32m    142\u001b[0m \u001b[0;34m\u001b[0m\u001b[0m\n",
      "\u001b[0;31mBulkWriteError\u001b[0m: batch op errors occurred"
     ]
    }
   ],
   "source": [
    "BATCH_SIZE = 150\n",
    "cursor = db_icb_posts.find({}).batch_size(BATCH_SIZE)\n",
    "counter = 0\n",
    "while cursor.alive:\n",
    "    batch = []\n",
    "    while len(batch)<BATCH_SIZE and cursor.alive:\n",
    "        tmp = next(cursor)  \n",
    "        tmp['dc'] = 1 if tmp['num_comments'] == 0 else 0\n",
    "        batch += [tmp]\n",
    "    counter +=150\n",
    "    db_icc_posts.insert_many(batch)\n",
    "    if(counter%1500 == 0):\n",
    "        print(counter)\n"
   ]
  },
  {
   "cell_type": "code",
   "execution_count": 5,
   "metadata": {},
   "outputs": [
    {
     "data": {
      "text/plain": [
       "(778822, 778822)"
      ]
     },
     "execution_count": 5,
     "metadata": {},
     "output_type": "execute_result"
    }
   ],
   "source": [
    "# Check the number of documents in each collection\n",
    "# Number must be equals\n",
    "db_icb_posts.count_documents({}), db_icc_posts.count_documents({})"
   ]
  },
  {
   "cell_type": "code",
   "execution_count": 9,
   "metadata": {},
   "outputs": [
    {
     "data": {
      "text/plain": [
       "(1573858, 2)"
      ]
     },
     "execution_count": 9,
     "metadata": {},
     "output_type": "execute_result"
    }
   ],
   "source": [
    "db_icc_comments.count_documents({}), db_icc_posts.count_documents({'dc':0})"
   ]
  },
  {
   "cell_type": "markdown",
   "metadata": {},
   "source": [
    "# Comments Downloading"
   ]
  },
  {
   "cell_type": "code",
   "execution_count": 28,
   "metadata": {
    "scrolled": true
   },
   "outputs": [
    {
     "name": "stdout",
     "output_type": "stream",
     "text": [
      "Faltam 0 documentos para baixar\n"
     ]
    },
    {
     "name": "stderr",
     "output_type": "stream",
     "text": [
      "/usr/local/lib/python3.6/dist-packages/ipykernel_launcher.py:8: DeprecationWarning: count is deprecated. Use Collection.count_documents instead.\n",
      "  \n"
     ]
    },
    {
     "name": "stdout",
     "output_type": "stream",
     "text": [
      "CPU times: user 44 µs, sys: 3.08 ms, total: 3.12 ms\n",
      "Wall time: 735 ms\n"
     ]
    }
   ],
   "source": [
    "%%time\n",
    "print(\"Faltam \" + str(db_icc_posts.count_documents({'dc':0})) + \" documentos para baixar\")\n",
    "cursor = db_icc_posts.find({'dc':0}, no_cursor_timeout=True).max_await_time_ms(3000000).max_time_ms(None) # 531225\n",
    "debug = []\n",
    "counter_insercoes = 0\n",
    "counter = 0\n",
    "BATCH_SIZE = 100\n",
    "suposto_counter = 0\n",
    "while cursor.alive and cursor.count() > 0:\n",
    "    try:\n",
    "        while cursor.alive:\n",
    "            posts = []\n",
    "            while cursor.alive and len(posts)<BATCH_SIZE:\n",
    "                posts += [next(cursor)['_id']]\n",
    "            posts = reddit.info(posts)\n",
    "            lista_de_atributos = ['name', 'parent_id', 'link_id','author_fullname', 'body', 'created_utc', 'edited', 'score', 'downs', 'ups']\n",
    "            print(\"Carregou os posts\")\n",
    "            for post in posts:\n",
    "                debug1 =[]\n",
    "                debug1 += [post]\n",
    "                comentarios_ainda_nao_buscados = post.comments.replace_more(limit=0)\n",
    "                comentarios_prontos_para_salvar = vars(post.comments)['_comments']\n",
    "                ids_dos_comentarios_ainda_nao_buscados = []\n",
    "                for comentario in comentarios_ainda_nao_buscados:\n",
    "                    for id in vars(comentario)['children']:\n",
    "                        ids_dos_comentarios_ainda_nao_buscados += [\"t1_\" + id]\n",
    "        #       TALVEZ SEJA POSSIVEL OTIMIZAR COM UM IF\n",
    "                for busca in reddit.info(ids_dos_comentarios_ainda_nao_buscados):\n",
    "                    comentarios_prontos_para_salvar += [busca]\n",
    "                insert_batch =[]\n",
    "                ids_dos_comentarios_para_salvar =[]\n",
    "                for a in comentarios_prontos_para_salvar:\n",
    "                    a = vars(a)\n",
    "                    new = dict()\n",
    "                    for x in lista_de_atributos:\n",
    "                        new[x] = a[x] if x in a else None\n",
    "                    new['_id'] = new.pop('name')\n",
    "                    ids_dos_comentarios_para_salvar += [new['_id']]\n",
    "                    insert_batch +=[new]\n",
    "                try:\n",
    "                    debug1+=[insert_batch]\n",
    "                    debug1+=[ids_dos_comentarios_para_salvar]\n",
    "                    debug+=[[debug1]]\n",
    "                    if len(insert_batch) > 0:\n",
    "                        db_icc_comments.insert_many(insert_batch)\n",
    "                except Exception as e:\n",
    "                    print(e)\n",
    "                else:\n",
    "                    counter += 1\n",
    "                    db_icc_posts.update_one({'_id':post.name},{'$set':{'dc':1, 'comments_id':ids_dos_comentarios_para_salvar}})\n",
    "                if(counter%100==0):\n",
    "                    print(counter)\n",
    "    except Exception as e:\n",
    "        print(e)\n",
    "        cursor = db_icc_posts.find({'dc':0}, no_cursor_timeout=True).max_await_time_ms(3000000).max_time_ms(None) # 531225"
   ]
  },
  {
   "cell_type": "code",
   "execution_count": 14,
   "metadata": {},
   "outputs": [
    {
     "name": "stdout",
     "output_type": "stream",
     "text": [
      "{'_id': 't3_69ow9k', 'author_fullname': None, 'title': 'Do you hate someone you used to love?', 'selftext': '[removed]', 'created_utc': 1494121904.0, 'edited': 1534042918.0, 'is_self': True, 'locked': False, 'num_comments': 1, 'over_18': False, 'score': 3, 'upvote_ratio': None, 'downs': 0, 'ups': 3, 'dc': 0}\n",
      "{'_id': 't3_2xn11w', 'author_fullname': 't2_h5uo2', 'title': '15 and fucked up myself', 'selftext': \"I want to become an architect when I grow up but parents think I shouldn't because they claim there is no money in the work and it's impossible to find a job in it. I am also very interested in entrepreneuring but I don't want to become one and my parents do. I have a bearded dragon and I've abused him by not feeding him worms as much as she should be, mostly I feed her lettuce and other greens but I know she can't just live off that. I have average grades, A's and B's and an E in Spanish II because my teacher hasn't put in many grades and I have to make up an assainment. I am on the crew team and that is my only club because I was grounded earlier in the year for a bad grade in ap human ( dropped the class) and I wasn't aloud to stay after school for crew or to join any other organizations. Now it's half way through the year and I can't join anything because well it's half way through the year. My dad constantly tells me that I need to do things without being told but I forget a lot and easily, I'm ADD also, I over heard my parents talking about me and I walked in hoping I can discuss it now if they want me to be so proactive and they just said they don't because they are so pissed about how little I do and they just don't want to discuss it now. I am fucking 15 mom and dad Im sorry I'm such a fuck up in your eyes because I am average, I sorry being on the crew time and having practice 3 days a week isn't good enough, having to stay after school on Wednesday for a math tutor isn't enough, and having upright bass lessons every other week isn't good enough even though I'm principle bass and I honestly don't need it. I'm sorry I enjoy skateboarding because it's a hobby I enjoy doing, and sorry for being fucking passionate for architecture and enjoying building Goddamn houses on Google sketchup because that's what interests me and Im getting a head start now because it makes me happy. They have always told me do what makes you happy but I guess architecture doesn't meet there  criteria. I was blessed with 2000$ from my grandfather when he died and he told me to go and use it for a life changing experience, I don't know what I want to do with it yet because nothing has come to mind yet that you would approve. Fuck you mom and dad for not backing me up on times I want to do something that I believe will make me happy now and in the future. I will become a goddamn architect because that's what I want to do in the future, I don't care if I will be living on the streets if I have to to do this career but at least I will be happy. I just want them to help me help myself. I'm such a fuck up they think I'm going to go to a crappy college because I'm average. Sorry for being the okist son in the world mom and dad, sorry\", 'created_utc': 1425272540.0, 'edited': False, 'is_self': True, 'locked': False, 'num_comments': 7, 'over_18': False, 'score': 1, 'upvote_ratio': None, 'downs': 0, 'ups': 1, 'dc': 0}\n"
     ]
    }
   ],
   "source": [
    "posts_faltantes = []\n",
    "for i in db_icc_posts.find({'dc':0}):\n",
    "    posts_faltantes +="
   ]
  },
  {
   "cell_type": "code",
   "execution_count": null,
   "metadata": {},
   "outputs": [],
   "source": []
  }
 ],
 "metadata": {
  "kernelspec": {
   "display_name": "Python 3",
   "language": "python",
   "name": "python3"
  },
  "language_info": {
   "codemirror_mode": {
    "name": "ipython",
    "version": 3
   },
   "file_extension": ".py",
   "mimetype": "text/x-python",
   "name": "python",
   "nbconvert_exporter": "python",
   "pygments_lexer": "ipython3",
   "version": "3.7.3"
  }
 },
 "nbformat": 4,
 "nbformat_minor": 2
}
