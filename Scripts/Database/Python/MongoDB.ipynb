{
 "cells": [
  {
   "cell_type": "code",
   "execution_count": 34,
   "metadata": {},
   "outputs": [],
   "source": [
    "from pymongo import MongoClient"
   ]
  },
  {
   "cell_type": "code",
   "execution_count": 47,
   "metadata": {},
   "outputs": [],
   "source": [
    "cliente = MongoClient('localhost', 27017)\n",
    "banco = cliente.ic\n",
    "posts = banco.posts"
   ]
  },
  {
   "cell_type": "code",
   "execution_count": 41,
   "metadata": {},
   "outputs": [],
   "source": [
    "import datetime\n",
    "post = {\n",
    "    \"_id\":\"bla\",\n",
    "    \"lancamento\": datetime.datetime.now()\n",
    "}"
   ]
  },
  {
   "cell_type": "code",
   "execution_count": 46,
   "metadata": {},
   "outputs": [
    {
     "name": "stdout",
     "output_type": "stream",
     "text": [
      "{'_id': ObjectId('5d1b88a077b98d993c047869'), 'nome': 'bla', 'lancamento': datetime.datetime(2019, 7, 2, 13, 38, 43, 521000)}\n"
     ]
    }
   ],
   "source": [
    "for a in album.find():\n",
    "    print(a)"
   ]
  },
  {
   "cell_type": "code",
   "execution_count": 9,
   "metadata": {},
   "outputs": [],
   "source": [
    "album = banco.album"
   ]
  },
  {
   "cell_type": "code",
   "execution_count": 27,
   "metadata": {},
   "outputs": [],
   "source": [
    "album.find_one()"
   ]
  },
  {
   "cell_type": "code",
   "execution_count": 29,
   "metadata": {},
   "outputs": [],
   "source": [
    "import praw"
   ]
  },
  {
   "cell_type": "code",
   "execution_count": 30,
   "metadata": {
    "scrolled": true
   },
   "outputs": [
    {
     "data": {
      "text/plain": [
       "{'CLUTTER_IM_MODULE': 'xim',\n",
       " 'LS_COLORS': 'rs=0:di=01;34:ln=01;36:mh=00:pi=40;33:so=01;35:do=01;35:bd=40;33;01:cd=40;33;01:or=40;31;01:mi=00:su=37;41:sg=30;43:ca=30;41:tw=30;42:ow=34;42:st=37;44:ex=01;32:*.tar=01;31:*.tgz=01;31:*.arc=01;31:*.arj=01;31:*.taz=01;31:*.lha=01;31:*.lz4=01;31:*.lzh=01;31:*.lzma=01;31:*.tlz=01;31:*.txz=01;31:*.tzo=01;31:*.t7z=01;31:*.zip=01;31:*.z=01;31:*.Z=01;31:*.dz=01;31:*.gz=01;31:*.lrz=01;31:*.lz=01;31:*.lzo=01;31:*.xz=01;31:*.zst=01;31:*.tzst=01;31:*.bz2=01;31:*.bz=01;31:*.tbz=01;31:*.tbz2=01;31:*.tz=01;31:*.deb=01;31:*.rpm=01;31:*.jar=01;31:*.war=01;31:*.ear=01;31:*.sar=01;31:*.rar=01;31:*.alz=01;31:*.ace=01;31:*.zoo=01;31:*.cpio=01;31:*.7z=01;31:*.rz=01;31:*.cab=01;31:*.wim=01;31:*.swm=01;31:*.dwm=01;31:*.esd=01;31:*.jpg=01;35:*.jpeg=01;35:*.mjpg=01;35:*.mjpeg=01;35:*.gif=01;35:*.bmp=01;35:*.pbm=01;35:*.pgm=01;35:*.ppm=01;35:*.tga=01;35:*.xbm=01;35:*.xpm=01;35:*.tif=01;35:*.tiff=01;35:*.png=01;35:*.svg=01;35:*.svgz=01;35:*.mng=01;35:*.pcx=01;35:*.mov=01;35:*.mpg=01;35:*.mpeg=01;35:*.m2v=01;35:*.mkv=01;35:*.webm=01;35:*.ogm=01;35:*.mp4=01;35:*.m4v=01;35:*.mp4v=01;35:*.vob=01;35:*.qt=01;35:*.nuv=01;35:*.wmv=01;35:*.asf=01;35:*.rm=01;35:*.rmvb=01;35:*.flc=01;35:*.avi=01;35:*.fli=01;35:*.flv=01;35:*.gl=01;35:*.dl=01;35:*.xcf=01;35:*.xwd=01;35:*.yuv=01;35:*.cgm=01;35:*.emf=01;35:*.ogv=01;35:*.ogx=01;35:*.aac=00;36:*.au=00;36:*.flac=00;36:*.m4a=00;36:*.mid=00;36:*.midi=00;36:*.mka=00;36:*.mp3=00;36:*.mpc=00;36:*.ogg=00;36:*.ra=00;36:*.wav=00;36:*.oga=00;36:*.opus=00;36:*.spx=00;36:*.xspf=00;36:',\n",
       " 'LC_MEASUREMENT': 'pt_BR.UTF-8',\n",
       " 'LESSCLOSE': '/usr/bin/lesspipe %s %s',\n",
       " 'LC_PAPER': 'pt_BR.UTF-8',\n",
       " 'LC_MONETARY': 'pt_BR.UTF-8',\n",
       " 'XDG_MENU_PREFIX': 'gnome-',\n",
       " 'LANG': 'en_US.UTF-8',\n",
       " 'DISPLAY': ':0',\n",
       " 'OLDPWD': '/home/kaue/Projetos',\n",
       " 'GNOME_SHELL_SESSION_MODE': 'ubuntu',\n",
       " 'COLORTERM': 'truecolor',\n",
       " 'USERNAME': 'kaue',\n",
       " 'XDG_VTNR': '2',\n",
       " 'SSH_AUTH_SOCK': '/run/user/1000/keyring/ssh',\n",
       " 'LC_NAME': 'pt_BR.UTF-8',\n",
       " 'XDG_SESSION_ID': '3',\n",
       " 'USER': 'kaue',\n",
       " 'DESKTOP_SESSION': 'ubuntu',\n",
       " 'QT4_IM_MODULE': 'xim',\n",
       " 'TEXTDOMAINDIR': '/usr/share/locale/',\n",
       " 'GNOME_TERMINAL_SCREEN': '/org/gnome/Terminal/screen/3a4261d7_c48d_4c89_933f_b722ca8f73c0',\n",
       " 'PWD': '/home/kaue/Projetos/Python',\n",
       " 'HOME': '/home/kaue',\n",
       " 'LC_CTYPE': 'pt_BR.UTF-8',\n",
       " 'TEXTDOMAIN': 'im-config',\n",
       " 'SSH_AGENT_PID': '1892',\n",
       " 'QT_ACCESSIBILITY': '1',\n",
       " 'XDG_SESSION_TYPE': 'x11',\n",
       " 'XDG_DATA_DIRS': '/usr/share/ubuntu:/usr/local/share:/usr/share:/var/lib/snapd/desktop',\n",
       " 'XDG_SESSION_DESKTOP': 'ubuntu',\n",
       " 'LC_ADDRESS': 'pt_BR.UTF-8',\n",
       " 'GJS_DEBUG_OUTPUT': 'stderr',\n",
       " 'LC_NUMERIC': 'pt_BR.UTF-8',\n",
       " 'GTK_MODULES': 'gail:atk-bridge',\n",
       " 'WINDOWPATH': '2',\n",
       " 'TERM': 'xterm-color',\n",
       " 'SHELL': '/bin/bash',\n",
       " 'VTE_VERSION': '5202',\n",
       " 'QT_IM_MODULE': 'ibus',\n",
       " 'XMODIFIERS': '@im=ibus',\n",
       " 'IM_CONFIG_PHASE': '2',\n",
       " 'XDG_CURRENT_DESKTOP': 'ubuntu:GNOME',\n",
       " 'GPG_AGENT_INFO': '/run/user/1000/gnupg/S.gpg-agent:0:1',\n",
       " 'GNOME_TERMINAL_SERVICE': ':1.97',\n",
       " 'XDG_SEAT': 'seat0',\n",
       " 'SHLVL': '1',\n",
       " 'LC_TELEPHONE': 'pt_BR.UTF-8',\n",
       " 'GDMSESSION': 'ubuntu',\n",
       " 'GNOME_DESKTOP_SESSION_ID': 'this-is-deprecated',\n",
       " 'LOGNAME': 'kaue',\n",
       " 'DBUS_SESSION_BUS_ADDRESS': 'unix:path=/run/user/1000/bus',\n",
       " 'XDG_RUNTIME_DIR': '/run/user/1000',\n",
       " 'XAUTHORITY': '/run/user/1000/gdm/Xauthority',\n",
       " 'XDG_CONFIG_DIRS': '/etc/xdg/xdg-ubuntu:/etc/xdg',\n",
       " 'PATH': '/usr/local/sbin:/usr/local/bin:/usr/sbin:/usr/bin:/sbin:/bin:/usr/games:/usr/local/games:/snap/bin',\n",
       " 'LC_IDENTIFICATION': 'pt_BR.UTF-8',\n",
       " 'GJS_DEBUG_TOPICS': 'JS ERROR;JS LOG',\n",
       " 'SESSION_MANAGER': 'local/kauepc:@/tmp/.ICE-unix/1797,unix/kauepc:/tmp/.ICE-unix/1797',\n",
       " 'LESSOPEN': '| /usr/bin/lesspipe %s',\n",
       " 'GTK_IM_MODULE': 'ibus',\n",
       " 'LC_TIME': 'pt_BR.UTF-8',\n",
       " '_': '/usr/local/bin/jupyter',\n",
       " 'JPY_PARENT_PID': '9002',\n",
       " 'CLICOLOR': '1',\n",
       " 'PAGER': 'cat',\n",
       " 'GIT_PAGER': 'cat',\n",
       " 'MPLBACKEND': 'module://ipykernel.pylab.backend_inline'}"
      ]
     },
     "execution_count": 30,
     "metadata": {},
     "output_type": "execute_result"
    }
   ],
   "source": [
    "%env"
   ]
  },
  {
   "cell_type": "code",
   "execution_count": null,
   "metadata": {},
   "outputs": [],
   "source": []
  },
  {
   "cell_type": "code",
   "execution_count": null,
   "metadata": {},
   "outputs": [],
   "source": []
  }
 ],
 "metadata": {
  "kernelspec": {
   "display_name": "Python 3",
   "language": "python",
   "name": "python3"
  },
  "language_info": {
   "codemirror_mode": {
    "name": "ipython",
    "version": 3
   },
   "file_extension": ".py",
   "mimetype": "text/x-python",
   "name": "python",
   "nbconvert_exporter": "python",
   "pygments_lexer": "ipython3",
   "version": "3.6.8"
  }
 },
 "nbformat": 4,
 "nbformat_minor": 2
}
