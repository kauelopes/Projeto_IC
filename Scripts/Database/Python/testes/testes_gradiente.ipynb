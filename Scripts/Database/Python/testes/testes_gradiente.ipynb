{
 "cells": [
  {
   "cell_type": "code",
   "execution_count": 3,
   "metadata": {},
   "outputs": [],
   "source": [
    "import numpy as np\n",
    "import matplotlib.pyplot as plt\n",
    "import pandas as pd\n",
    "from scipy.spatial import distance_matrix"
   ]
  },
  {
   "cell_type": "code",
   "execution_count": 28,
   "metadata": {},
   "outputs": [],
   "source": []
  },
  {
   "cell_type": "code",
   "execution_count": 29,
   "metadata": {},
   "outputs": [],
   "source": []
  },
  {
   "cell_type": "code",
   "execution_count": 30,
   "metadata": {},
   "outputs": [],
   "source": []
  },
  {
   "cell_type": "code",
   "execution_count": 71,
   "metadata": {},
   "outputs": [],
   "source": [
    "alfa = 0.01"
   ]
  },
  {
   "cell_type": "code",
   "execution_count": 72,
   "metadata": {},
   "outputs": [],
   "source": []
  },
  {
   "cell_type": "code",
   "execution_count": 73,
   "metadata": {},
   "outputs": [],
   "source": []
  },
  {
   "cell_type": "code",
   "execution_count": 88,
   "metadata": {},
   "outputs": [
    {
     "name": "stdout",
     "output_type": "stream",
     "text": [
      "0\n",
      "4815.331259511089\n",
      "4331.636406719097\n",
      "3536.433067025913\n",
      "3573.0503566714283\n",
      "3346.951596684811\n",
      "3339.472462320061\n",
      "3131.5364623373225\n",
      "3047.6500965776227\n",
      "2764.8963336408724\n",
      "2610.129133297295\n",
      "2278.1439292698788\n",
      "2202.040398010671\n",
      "1853.8686314757379\n",
      "2031.8802636399612\n",
      "1614.0791736521323\n",
      "2107.6795187500347\n",
      "1499.420249297123\n",
      "2160.206868539338\n",
      "1409.7618774174666\n",
      "2021.0366917275378\n",
      "1299.8305310649214\n",
      "1954.9731095747998\n",
      "1079.290349720194\n",
      "1440.3477854181856\n",
      "795.7530662969866\n",
      "1353.1819525836302\n",
      "890.4721825304831\n",
      "608.1126753909031\n",
      "448.07696527934155\n",
      "355.47930857598374\n",
      "296.3765053229463\n",
      "253.733559273014\n",
      "219.8348126675188\n",
      "191.0343839623234\n",
      "165.54875097279017\n",
      "142.3918016254601\n",
      "121.25840285046766\n",
      "102.40490550551269\n",
      "85.84015858886058\n",
      "71.53911440938582\n",
      "59.40738373687118\n",
      "49.29811916742841\n",
      "41.029912383586264\n",
      "34.31836111142179\n",
      "28.875555314943888\n",
      "24.427011804596766\n",
      "20.759357885333337\n",
      "17.71337814308185\n",
      "15.160190565836924\n",
      "13.005480691931147\n",
      "11.176889637346669\n",
      "9.618292654815201\n",
      "8.284024392263179\n",
      "7.1368122033070245\n",
      "6.151175303504795\n",
      "5.303504244907672\n",
      "4.573806779193367\n",
      "3.9453687426054564\n",
      "3.4039357515085373\n",
      "2.9366387418433653\n",
      "2.532558517395496\n",
      "2.1838789039032793\n",
      "1.8832783037978236\n"
     ]
    },
    {
     "ename": "KeyboardInterrupt",
     "evalue": "",
     "output_type": "error",
     "traceback": [
      "\u001b[0;31m---------------------------------------------------------------------------\u001b[0m",
      "\u001b[0;31mKeyboardInterrupt\u001b[0m                         Traceback (most recent call last)",
      "\u001b[0;32m<ipython-input-88-b0a61570a794>\u001b[0m in \u001b[0;36m<module>\u001b[0;34m\u001b[0m\n\u001b[1;32m     28\u001b[0m             \u001b[0mstep_y\u001b[0m \u001b[0;34m=\u001b[0m \u001b[0;36m0\u001b[0m\u001b[0;34m\u001b[0m\u001b[0;34m\u001b[0m\u001b[0m\n\u001b[1;32m     29\u001b[0m             \u001b[0;32mfor\u001b[0m \u001b[0mj\u001b[0m \u001b[0;32min\u001b[0m \u001b[0mrange\u001b[0m\u001b[0;34m(\u001b[0m\u001b[0mlen\u001b[0m\u001b[0;34m(\u001b[0m\u001b[0mpoints\u001b[0m\u001b[0;34m)\u001b[0m\u001b[0;34m)\u001b[0m\u001b[0;34m:\u001b[0m\u001b[0;34m\u001b[0m\u001b[0;34m\u001b[0m\u001b[0m\n\u001b[0;32m---> 30\u001b[0;31m                 \u001b[0mstep_x\u001b[0m \u001b[0;34m+=\u001b[0m \u001b[0mE\u001b[0m\u001b[0;34m[\u001b[0m\u001b[0mi\u001b[0m\u001b[0;34m]\u001b[0m\u001b[0;34m[\u001b[0m\u001b[0mj\u001b[0m\u001b[0;34m]\u001b[0m\u001b[0;34m*\u001b[0m\u001b[0;34m(\u001b[0m\u001b[0mpoints\u001b[0m\u001b[0;34m.\u001b[0m\u001b[0miloc\u001b[0m\u001b[0;34m[\u001b[0m\u001b[0mi\u001b[0m\u001b[0;34m]\u001b[0m\u001b[0;34m[\u001b[0m\u001b[0;36m0\u001b[0m\u001b[0;34m]\u001b[0m\u001b[0;34m-\u001b[0m\u001b[0mpoints\u001b[0m\u001b[0;34m.\u001b[0m\u001b[0miloc\u001b[0m\u001b[0;34m[\u001b[0m\u001b[0mj\u001b[0m\u001b[0;34m]\u001b[0m\u001b[0;34m[\u001b[0m\u001b[0;36m0\u001b[0m\u001b[0;34m]\u001b[0m\u001b[0;34m)\u001b[0m\u001b[0;34m\u001b[0m\u001b[0;34m\u001b[0m\u001b[0m\n\u001b[0m\u001b[1;32m     31\u001b[0m                 \u001b[0mstep_y\u001b[0m \u001b[0;34m+=\u001b[0m \u001b[0mE\u001b[0m\u001b[0;34m[\u001b[0m\u001b[0mi\u001b[0m\u001b[0;34m]\u001b[0m\u001b[0;34m[\u001b[0m\u001b[0mj\u001b[0m\u001b[0;34m]\u001b[0m\u001b[0;34m*\u001b[0m\u001b[0;34m(\u001b[0m\u001b[0mpoints\u001b[0m\u001b[0;34m.\u001b[0m\u001b[0miloc\u001b[0m\u001b[0;34m[\u001b[0m\u001b[0mi\u001b[0m\u001b[0;34m]\u001b[0m\u001b[0;34m[\u001b[0m\u001b[0;36m1\u001b[0m\u001b[0;34m]\u001b[0m\u001b[0;34m-\u001b[0m\u001b[0mpoints\u001b[0m\u001b[0;34m.\u001b[0m\u001b[0miloc\u001b[0m\u001b[0;34m[\u001b[0m\u001b[0mj\u001b[0m\u001b[0;34m]\u001b[0m\u001b[0;34m[\u001b[0m\u001b[0;36m1\u001b[0m\u001b[0;34m]\u001b[0m\u001b[0;34m)\u001b[0m\u001b[0;34m\u001b[0m\u001b[0;34m\u001b[0m\u001b[0m\n\u001b[1;32m     32\u001b[0m             \u001b[0mstep\u001b[0m\u001b[0;34m.\u001b[0m\u001b[0miloc\u001b[0m\u001b[0;34m[\u001b[0m\u001b[0mi\u001b[0m\u001b[0;34m]\u001b[0m\u001b[0;34m[\u001b[0m\u001b[0;34m'x'\u001b[0m\u001b[0;34m]\u001b[0m \u001b[0;34m=\u001b[0m \u001b[0mstep_x\u001b[0m\u001b[0;34m\u001b[0m\u001b[0;34m\u001b[0m\u001b[0m\n",
      "\u001b[0;31mKeyboardInterrupt\u001b[0m: "
     ]
    }
   ],
   "source": [
    "\n",
    "errors = []\n",
    "\n",
    "for a in range(1):\n",
    "    print(a)\n",
    "    POINTS_NUMBER = 200\n",
    "    points_generation = pd.DataFrame(data=np.random.random([POINTS_NUMBER,2]), columns=list('xy'))\n",
    "    dist_matrix_obj = distance_matrix(points_generation, points_generation)\n",
    "    dist_matrix_obj_2pwr = dist_matrix_obj**2\n",
    "    points = pd.DataFrame(data=np.random.random([POINTS_NUMBER,2]), columns=list('xy'))\n",
    "\n",
    "\n",
    "    step = pd.DataFrame(data=np.zeros([POINTS_NUMBER,2]), columns=list('xy'))\n",
    "\n",
    "\n",
    "    k = 0\n",
    "    steps = 0\n",
    "    erro = 10\n",
    "\n",
    "    while steps < 1000 and erro>0.1:\n",
    "        dist_matrix = distance_matrix(points,points)\n",
    "        dist_matrix_2pwr = dist_matrix**2\n",
    "        E = (dist_matrix_2pwr - dist_matrix_obj_2pwr)\n",
    "        erro = np.sum((dist_matrix - dist_matrix_obj)**2)\n",
    "        print(erro)\n",
    "        for i in range(len(points)):\n",
    "            step_x = 0\n",
    "            step_y = 0\n",
    "            for j in range(len(points)):\n",
    "                step_x += E[i][j]*(points.iloc[i][0]-points.iloc[j][0])\n",
    "                step_y += E[i][j]*(points.iloc[i][1]-points.iloc[j][1])\n",
    "            step.iloc[i]['x'] = step_x\n",
    "            step.iloc[i]['y'] = step_y\n",
    "        points = points - alfa*step \n",
    "        steps += 1\n",
    "        if erro <1000:\n",
    "            alfa = 0.002\n",
    "    errors += [steps]\n",
    "    "
   ]
  },
  {
   "cell_type": "code",
   "execution_count": 85,
   "metadata": {
    "scrolled": true
   },
   "outputs": [
    {
     "data": {
      "text/plain": [
       "[<matplotlib.lines.Line2D at 0x7f5ea9f2b160>]"
      ]
     },
     "execution_count": 85,
     "metadata": {},
     "output_type": "execute_result"
    },
    {
     "data": {
      "image/png": "[encoded data removed]",
      "text/plain": [
       "<Figure size 432x288 with 1 Axes>"
      ]
     },
     "metadata": {
      "needs_background": "light"
     },
     "output_type": "display_data"
    }
   ],
   "source": [
    "plt.plot(errors)"
   ]
  },
  {
   "cell_type": "code",
   "execution_count": 77,
   "metadata": {},
   "outputs": [
    {
     "data": {
      "text/plain": [
       "57"
      ]
     },
     "execution_count": 77,
     "metadata": {},
     "output_type": "execute_result"
    }
   ],
   "source": [
    "steps"
   ]
  },
  {
   "cell_type": "code",
   "execution_count": 78,
   "metadata": {},
   "outputs": [
    {
     "data": {
      "text/plain": [
       "0.09376155521558546"
      ]
     },
     "execution_count": 78,
     "metadata": {},
     "output_type": "execute_result"
    }
   ],
   "source": [
    "erro"
   ]
  },
  {
   "cell_type": "code",
   "execution_count": 79,
   "metadata": {},
   "outputs": [
    {
     "data": {
      "text/plain": [
       "<matplotlib.collections.PathCollection at 0x7f5eaa1acac8>"
      ]
     },
     "execution_count": 79,
     "metadata": {},
     "output_type": "execute_result"
    },
    {
     "data": {
      "image/png": "[encoded data removed]",
      "text/plain": [
       "<Figure size 432x288 with 1 Axes>"
      ]
     },
     "metadata": {
      "needs_background": "light"
     },
     "output_type": "display_data"
    }
   ],
   "source": [
    "plt.scatter(points_generation['x'],points_generation['y'],c=[i for i in range(POINTS_NUMBER)])"
   ]
  },
  {
   "cell_type": "code",
   "execution_count": 80,
   "metadata": {},
   "outputs": [
    {
     "data": {
      "text/plain": [
       "<matplotlib.collections.PathCollection at 0x7f5eaa1808d0>"
      ]
     },
     "execution_count": 80,
     "metadata": {},
     "output_type": "execute_result"
    },
    {
     "data": {
      "image/png": "[encoded data removed]",
      "text/plain": [
       "<Figure size 432x288 with 1 Axes>"
      ]
     },
     "metadata": {
      "needs_background": "light"
     },
     "output_type": "display_data"
    }
   ],
   "source": [
    "plt.scatter(points['x'],points['y'],c=[i for i in range(POINTS_NUMBER)])"
   ]
  },
  {
   "cell_type": "code",
   "execution_count": null,
   "metadata": {},
   "outputs": [],
   "source": []
  },
  {
   "cell_type": "code",
   "execution_count": null,
   "metadata": {},
   "outputs": [],
   "source": []
  },
  {
   "cell_type": "code",
   "execution_count": null,
   "metadata": {},
   "outputs": [],
   "source": []
  }
 ],
 "metadata": {
  "kernelspec": {
   "display_name": "Python 3",
   "language": "python",
   "name": "python3"
  },
  "language_info": {
   "codemirror_mode": {
    "name": "ipython",
    "version": 3
   },
   "file_extension": ".py",
   "mimetype": "text/x-python",
   "name": "python",
   "nbconvert_exporter": "python",
   "pygments_lexer": "ipython3",
   "version": "3.7.3"
  }
 },
 "nbformat": 4,
 "nbformat_minor": 2
}
