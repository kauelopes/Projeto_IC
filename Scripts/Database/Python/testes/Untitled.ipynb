{
 "cells": [
  {
   "cell_type": "code",
   "execution_count": 3,
   "metadata": {},
   "outputs": [],
   "source": [
    "import matplotlib.pyplot as plt\n",
    "import numpy as np\n",
    "import pandas as pd\n",
    "from scipy.spatial import distance_matrix"
   ]
  },
  {
   "cell_type": "code",
   "execution_count": 96,
   "metadata": {},
   "outputs": [
    {
     "data": {
      "text/plain": [
       "<matplotlib.collections.PathCollection at 0x7fa8da1027b8>"
      ]
     },
     "execution_count": 96,
     "metadata": {},
     "output_type": "execute_result"
    },
    {
     "data": {
      "image/png": "[encoded data removed]",
      "text/plain": [
       "<Figure size 432x288 with 1 Axes>"
      ]
     },
     "metadata": {
      "needs_background": "light"
     },
     "output_type": "display_data"
    }
   ],
   "source": [
    "df = pd.DataFrame(np.random.randint(10,size=(10,2)), columns=list('xy'))\n",
    "df = df.drop_duplicates()\n",
    "while len(df) < 10:\n",
    "    df = pd.DataFrame(np.random.randint(10,size=(10,2)), columns=list('xy'))\n",
    "    df = df.drop_duplicates()\n",
    "colors = [a for a in range(10)]\n",
    "plt.scatter(df.x,df.y, c=colors)"
   ]
  },
  {
   "cell_type": "code",
   "execution_count": 92,
   "metadata": {},
   "outputs": [],
   "source": [
    "a = [a for a in range(10)]"
   ]
  },
  {
   "cell_type": "code",
   "execution_count": 81,
   "metadata": {},
   "outputs": [],
   "source": [
    "distance_matrix = distance_matrix(df, df)"
   ]
  },
  {
   "cell_type": "code",
   "execution_count": 100,
   "metadata": {},
   "outputs": [],
   "source": [
    "points = []\n",
    "points += [[0,0]]\n",
    "points += [[0,distance_matrix[0,1]]]"
   ]
  },
  {
   "cell_type": "code",
   "execution_count": 99,
   "metadata": {},
   "outputs": [
    {
     "data": {
      "text/plain": [
       "9.486832980505138"
      ]
     },
     "execution_count": 99,
     "metadata": {},
     "output_type": "execute_result"
    }
   ],
   "source": [
    "distance_matrix[0,1]"
   ]
  },
  {
   "cell_type": "code",
   "execution_count": 101,
   "metadata": {},
   "outputs": [
    {
     "data": {
      "text/plain": [
       "[[0, 0], [0, 9.486832980505138]]"
      ]
     },
     "execution_count": 101,
     "metadata": {},
     "output_type": "execute_result"
    }
   ],
   "source": [
    "points"
   ]
  },
  {
   "cell_type": "code",
   "execution_count": 4,
   "metadata": {},
   "outputs": [],
   "source": [
    "def choose_point_position(ax,ay,bx,by,ar,br):\n",
    "    d = np.sqrt((bx-ax)**2 + (by-ay)**2)\n",
    "    \n",
    "    ex = (bx-ax)/d\n",
    "    ey = (by-ay)/d\n",
    "    \n",
    "    x = (ar**2 - br**2 + d**2)/(2*d)\n",
    "    y = np.sqrt(ar**2 -x*x)\n",
    "    \n",
    "    p1 = [ax + x*ex - y*ey\n",
    "         ,ay + x*ey + y*ex]\n",
    "    p2 = [ax + x*ex + y*ey\n",
    "         ,ay + x*ey - y*ex]\n",
    "    return p1, p2"
   ]
  },
  {
   "cell_type": "code",
   "execution_count": 11,
   "metadata": {},
   "outputs": [],
   "source": [
    "r = choose_point_position(0,0,3,0,4,5)"
   ]
  },
  {
   "cell_type": "code",
   "execution_count": 12,
   "metadata": {},
   "outputs": [
    {
     "data": {
      "text/plain": [
       "([0.0, 4.0], [0.0, -4.0])"
      ]
     },
     "execution_count": 12,
     "metadata": {},
     "output_type": "execute_result"
    }
   ],
   "source": []
  },
  {
   "cell_type": "code",
   "execution_count": 24,
   "metadata": {},
   "outputs": [
    {
     "name": "stdout",
     "output_type": "stream",
     "text": [
      "soma total dos erros 1.4081154832243417e-26\n"
     ]
    }
   ],
   "source": [
    "soma = 0\n",
    "for a in range(100):\n",
    "    m = np.random.random([3,2])*10\n",
    "    dist1 = np.sqrt((m[0][0] - m[2][0])**2 + (m[0][1] - m[2][1])**2)\n",
    "    dist2 = np.sqrt((m[1][0] - m[2][0])**2 + (m[1][1] - m[2][1])**2)\n",
    "    resp = choose_point_position(m[0][0],m[0][1],m[1][0],m[1][1],dist1,dist2)\n",
    "    minimo = 10000\n",
    "    for i in resp:\n",
    "        r = np.sum((i - m[2])**2)\n",
    "        if r < minimo:\n",
    "            minimo = r\n",
    "    soma += minimo\n",
    "print(\"soma total dos erros\", soma)"
   ]
  },
  {
   "cell_type": "code",
   "execution_count": null,
   "metadata": {},
   "outputs": [],
   "source": []
  },
  {
   "cell_type": "code",
   "execution_count": null,
   "metadata": {},
   "outputs": [],
   "source": []
  }
 ],
 "metadata": {
  "kernelspec": {
   "display_name": "Python 3",
   "language": "python",
   "name": "python3"
  },
  "language_info": {
   "codemirror_mode": {
    "name": "ipython",
    "version": 3
   },
   "file_extension": ".py",
   "mimetype": "text/x-python",
   "name": "python",
   "nbconvert_exporter": "python",
   "pygments_lexer": "ipython3",
   "version": "3.7.3"
  }
 },
 "nbformat": 4,
 "nbformat_minor": 2
}
