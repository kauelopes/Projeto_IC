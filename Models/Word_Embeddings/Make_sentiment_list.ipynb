{
 "cells": [
  {
   "cell_type": "code",
   "execution_count": 1,
   "metadata": {},
   "outputs": [],
   "source": [
    "import numpy as np"
   ]
  },
  {
   "cell_type": "code",
   "execution_count": 1,
   "metadata": {},
   "outputs": [],
   "source": [
    "palavras = []\n",
    "palavras += [\"joyous\", \"interested\", \"expectant\", \"passionate\", \"amused\",\"determined\", \"enthusiastic\",\"delighted\", \"courageous\", \"happy\"]\n",
    "palavras += [\"excited\", \"convinced\", \"condescending\", \"ambitious\", \"conceited\", \"surprise\", \"lusting\", \"triumphant\", \"astonished\"]\n",
    "palavras += [\"alarmed\", 'tense', 'angry', 'fear','contemptuous','annoyed', 'jealous','indignant', 'impatient','envious']\n",
    "palavras += ['bored', 'suspicious', 'distrustful','frustrated', 'discontented','bitter','insulted','startled','disgusted','distressed','angry']\n",
    "palavras += ['disappointed', 'apathetic','miserable', 'dissatisfied', 'confused', 'sad','despondent','depressed', 'gloomy','desperate']\n",
    "palavras += ['worried','guilt','embarrassed','melancholic','hesitant','bored','wavering','dejected', 'sad', 'tired']\n",
    "palavras += ['neutral', 'longing','attentive', 'contemplative', 'serious', 'polite','peaceful','empathic', 'calm', 'attentive']\n",
    "palavras += ['friendly', 'attentive', 'serene', 'friendly', 'relaxed', 'hopeful', 'confident', 'impressed', 'amorous', 'happy','content', 'satisfied']\n"
   ]
  },
  {
   "cell_type": "code",
   "execution_count": 2,
   "metadata": {},
   "outputs": [],
   "source": [
    "palavras = list(set(palavras))"
   ]
  },
  {
   "cell_type": "code",
   "execution_count": 4,
   "metadata": {},
   "outputs": [],
   "source": [
    "np.save(\"sentiments_list.npy\", palavras)"
   ]
  },
  {
   "cell_type": "code",
   "execution_count": 3,
   "metadata": {},
   "outputs": [
    {
     "data": {
      "text/plain": [
       "['astonished',\n",
       " 'worried',\n",
       " 'condescending',\n",
       " 'neutral',\n",
       " 'confused',\n",
       " 'envious',\n",
       " 'expectant',\n",
       " 'distrustful',\n",
       " 'discontented',\n",
       " 'disappointed',\n",
       " 'dissatisfied',\n",
       " 'bitter',\n",
       " 'serious',\n",
       " 'serene',\n",
       " 'despondent',\n",
       " 'annoyed',\n",
       " 'alarmed',\n",
       " 'insulted',\n",
       " 'lusting',\n",
       " 'depressed',\n",
       " 'peaceful',\n",
       " 'happy',\n",
       " 'ambitious',\n",
       " 'confident',\n",
       " 'attentive',\n",
       " 'amorous',\n",
       " 'content',\n",
       " 'passionate',\n",
       " 'fear',\n",
       " 'suspicious',\n",
       " 'conceited',\n",
       " 'delighted',\n",
       " 'angry',\n",
       " 'courageous',\n",
       " 'melancholic',\n",
       " 'empathic',\n",
       " 'impressed',\n",
       " 'bored',\n",
       " 'friendly',\n",
       " 'convinced',\n",
       " 'polite',\n",
       " 'surprise',\n",
       " 'guilt',\n",
       " 'embarrassed',\n",
       " 'triumphant',\n",
       " 'desperate',\n",
       " 'satisfied',\n",
       " 'relaxed',\n",
       " 'hopeful',\n",
       " 'impatient',\n",
       " 'startled',\n",
       " 'calm',\n",
       " 'wavering',\n",
       " 'interested',\n",
       " 'frustrated',\n",
       " 'tired',\n",
       " 'tense',\n",
       " 'sad',\n",
       " 'determined',\n",
       " 'distressed',\n",
       " 'dejected',\n",
       " 'hesitant',\n",
       " 'contemptuous',\n",
       " 'excited',\n",
       " 'indignant',\n",
       " 'miserable',\n",
       " 'enthusiastic',\n",
       " 'longing',\n",
       " 'amused',\n",
       " 'contemplative',\n",
       " 'gloomy',\n",
       " 'disgusted',\n",
       " 'jealous',\n",
       " 'joyous',\n",
       " 'apathetic']"
      ]
     },
     "execution_count": 3,
     "metadata": {},
     "output_type": "execute_result"
    }
   ],
   "source": [
    "palavras"
   ]
  },
  {
   "cell_type": "code",
   "execution_count": null,
   "metadata": {},
   "outputs": [],
   "source": []
  }
 ],
 "metadata": {
  "kernelspec": {
   "display_name": "Python 3",
   "language": "python",
   "name": "python3"
  },
  "language_info": {
   "codemirror_mode": {
    "name": "ipython",
    "version": 3
   },
   "file_extension": ".py",
   "mimetype": "text/x-python",
   "name": "python",
   "nbconvert_exporter": "python",
   "pygments_lexer": "ipython3",
   "version": "3.7.3"
  }
 },
 "nbformat": 4,
 "nbformat_minor": 2
}
