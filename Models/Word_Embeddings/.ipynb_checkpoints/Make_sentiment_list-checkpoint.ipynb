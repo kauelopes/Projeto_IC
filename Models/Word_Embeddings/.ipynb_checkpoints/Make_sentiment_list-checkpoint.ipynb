{
 "cells": [
  {
   "cell_type": "code",
   "execution_count": 1,
   "metadata": {},
   "outputs": [],
   "source": [
    "palavras = []\n",
    "palavras += [\"joyous\", \"interested\", \"expectant\", \"passionate\", \"amused\",\"determined\", \"enthusiastic\",\"delighted\", \"courageous\", \"happy\"]\n",
    "palavras += [\"excited\", \"convinced\", \"feeling superior\", \"ambitious\", \"counceited\", \"surprise\", \"lusting\", \"triumphant\", \"astonished\"]\n",
    "palavras += [\"alarmed\", 'tense', 'angry', 'fear','contemptuous','annoyed', 'jealous','indignant', 'impatient','envious']\n",
    "palavras += ['bored', 'suspicious', 'distrustful','frustated', 'discontented','bitter','insulted','startled','disgusted','distressed','angry']\n",
    "palavras += ['disappointed', 'apathetic','miserable', 'dissatisfied', 'taken aback', 'sad','despondent','depressed', 'gloomy','desperate']\n",
    "palavras += ['worried','feel guilt','embarrassed','melancholic','hesitant','bored','wavering','dejected', 'sad', 'tired']\n",
    "palavras += ['neutral', 'longing','attentive', 'contemplative', 'serious', 'polite','peaceful','empathic', 'calm', 'comtemplative', 'attentive']\n",
    "palavras += ['friendly', 'attentive', 'serene', 'friendly', 'relaxed', 'hopeful', 'confident', 'impressed', 'amorous', 'happy','content', 'feel well']\n",
    "palavras += ['courageous']"
   ]
  },
  {
   "cell_type": "code",
   "execution_count": null,
   "metadata": {},
   "outputs": [],
   "source": []
  }
 ],
 "metadata": {
  "kernelspec": {
   "display_name": "Python 3",
   "language": "python",
   "name": "python3"
  },
  "language_info": {
   "codemirror_mode": {
    "name": "ipython",
    "version": 3
   },
   "file_extension": ".py",
   "mimetype": "text/x-python",
   "name": "python",
   "nbconvert_exporter": "python",
   "pygments_lexer": "ipython3",
   "version": "3.7.3"
  }
 },
 "nbformat": 4,
 "nbformat_minor": 2
}
