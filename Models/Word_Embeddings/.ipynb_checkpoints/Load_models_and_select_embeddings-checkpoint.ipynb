{
 "cells": [
  {
   "cell_type": "code",
   "execution_count": 9,
   "metadata": {},
   "outputs": [],
   "source": [
    "import numpy as np\n",
    "from gensim.models.keyedvectors import KeyedVectors\n",
    "from gensim.scripts.glove2word2vec import glove2word2vec"
   ]
  },
  {
   "cell_type": "code",
   "execution_count": 2,
   "metadata": {},
   "outputs": [],
   "source": [
    "import json #https://stackoverflow.com/questions/7100125/storing-python-dictionaries"
   ]
  },
  {
   "cell_type": "code",
   "execution_count": 3,
   "metadata": {},
   "outputs": [],
   "source": [
    "import pickle #https://stackoverflow.com/questions/11218477/how-can-i-use-pickle-to-save-a-dict"
   ]
  },
  {
   "cell_type": "code",
   "execution_count": 4,
   "metadata": {},
   "outputs": [],
   "source": [
    "import os"
   ]
  },
  {
   "cell_type": "code",
   "execution_count": 5,
   "metadata": {},
   "outputs": [],
   "source": [
    "files = os.listdir(\"models\")\n",
    "glove_models = []\n",
    "vec_models = []\n",
    "bin_models = []\n",
    "for file in files:\n",
    "    last_letter = file[-1]\n",
    "    if last_letter == 't':\n",
    "        glove_models += [file]\n",
    "    elif last_letter == 'c':\n",
    "        vec_models += [file]\n",
    "    else:\n",
    "        bin_models += [file]"
   ]
  },
  {
   "cell_type": "code",
   "execution_count": 6,
   "metadata": {},
   "outputs": [
    {
     "data": {
      "text/plain": [
       "(['crawl-300d-2M-subword.vec',\n",
       "  'crawl-300d-2M.vec',\n",
       "  'wiki-news-300d-1M.vec',\n",
       "  'wiki-news-300d-1M-subword.vec'],\n",
       " ['glove.6B.300d.txt',\n",
       "  'glove.6B.200d.txt',\n",
       "  'glove.42B.300d.txt',\n",
       "  'glove.twitter.27B.50d.txt',\n",
       "  'glove.6B.100d.txt',\n",
       "  'glove.840B.300d.txt',\n",
       "  'glove.6B.50d.txt',\n",
       "  'glove.twitter.27B.200d.txt',\n",
       "  'glove.twitter.27B.100d.txt',\n",
       "  'glove.twitter.27B.25d.txt'],\n",
       " ['GoogleNews-vectors-negative300.bin'])"
      ]
     },
     "execution_count": 6,
     "metadata": {},
     "output_type": "execute_result"
    }
   ],
   "source": [
    "vec_models, glove_models,bin_models"
   ]
  },
  {
   "cell_type": "markdown",
   "metadata": {},
   "source": [
    "#### DEFINICAO DA ESTRUTURA DO NOSSO DICIONARIO\n",
    "- Sentiment (somente retirados do nosso faamooooso array já salvo)\n",
    "    - vectors\n",
    "    - key_list"
   ]
  },
  {
   "cell_type": "code",
   "execution_count": 8,
   "metadata": {},
   "outputs": [],
   "source": [
    "sentiments = np.load(\"./sentiments_list.npy\")"
   ]
  },
  {
   "cell_type": "code",
   "execution_count": null,
   "metadata": {},
   "outputs": [],
   "source": [
    "def load_model(name, format_option) #(0,vec),(1,gloove),(2,bin)\n",
    "    \n",
    "    model_name = \"./models/\" + name\n",
    "    if format_option == 0:\n",
    "        model = KeyedVectors.load_word2vec_format(model_name)\n",
    "    elif format_option == 1:\n",
    "        tmp_file = get_tmpfile(\"tmp\")\n",
    "    else:\n",
    "        model = KeyedVectors.load_word2vec_format(model_name, binary=True)\n",
    "    print(\"Model Loaded\")\n",
    "    return model"
   ]
  },
  {
   "cell_type": "code",
   "execution_count": 105,
   "metadata": {
    "scrolled": true
   },
   "outputs": [
    {
     "name": "stdout",
     "output_type": "stream",
     "text": [
      "0.0%\n",
      "9.21%\n",
      "18.42%\n",
      "27.63%\n",
      "36.84%\n",
      "46.05%\n",
      "55.26%\n",
      "64.47%\n",
      "73.68%\n",
      "82.89%\n",
      "92.11%\n",
      "finished\n"
     ]
    }
   ],
   "source": [
    "def generate_model_embeddings(modelmod):\n",
    "    model_embeddings = dict()\n",
    "    for i,s in enumerate(sentiments):\n",
    "        printPercentage(i,len(sentiments),10)\n",
    "        top_similar = model.most_similar(positive=s,topn=50)\n",
    "        sentiment_embeddings = dict()\n",
    "        sentiment_embeddings[\"vectors\"] = dict()\n",
    "        sentiment_embeddings[\"key_list\"] = top_similar\n",
    "        sentiment_embeddings[\"vectors\"][s] = list(model[s])\n",
    "        for word,_ in top_similar:\n",
    "            sentiment_embeddings[\"vectors\"][word] = list(np.model[word])\n",
    "        model_embeddings[s] = sentiment_embeddings\n",
    "    if(len(model_embeddings.keys())!=len(sentiments)):\n",
    "        print(\"erro no tamanho do embedding gerado\")\n",
    "    return model_embeddings"
   ]
  },
  {
   "cell_type": "code",
   "execution_count": 116,
   "metadata": {},
   "outputs": [],
   "source": [
    "with open(\"./sentiment_embeddings/\"+model_name+'.pickle', 'wb') as handle:\n",
    "    pickle.dump(model_embeddings, handle, protocol=pickle.HIGHEST_PROTOCOL)"
   ]
  },
  {
   "cell_type": "code",
   "execution_count": null,
   "metadata": {},
   "outputs": [],
   "source": []
  },
  {
   "cell_type": "code",
   "execution_count": null,
   "metadata": {},
   "outputs": [],
   "source": []
  },
  {
   "cell_type": "code",
   "execution_count": 121,
   "metadata": {},
   "outputs": [],
   "source": [
    "from gensim.scripts.glove2word2vec import glove2word2vec"
   ]
  },
  {
   "cell_type": "code",
   "execution_count": 122,
   "metadata": {},
   "outputs": [
    {
     "data": {
      "text/plain": [
       "(400000, 50)"
      ]
     },
     "execution_count": 122,
     "metadata": {},
     "output_type": "execute_result"
    }
   ],
   "source": [
    "glove2word2vec(\"./models/glove.6B.50d.txt\", \"abc\")"
   ]
  },
  {
   "cell_type": "code",
   "execution_count": null,
   "metadata": {},
   "outputs": [],
   "source": []
  },
  {
   "cell_type": "code",
   "execution_count": null,
   "metadata": {},
   "outputs": [],
   "source": []
  },
  {
   "cell_type": "code",
   "execution_count": null,
   "metadata": {},
   "outputs": [],
   "source": []
  },
  {
   "cell_type": "code",
   "execution_count": null,
   "metadata": {},
   "outputs": [],
   "source": []
  },
  {
   "cell_type": "markdown",
   "metadata": {},
   "source": [
    "### Help Methods And Cells"
   ]
  },
  {
   "cell_type": "code",
   "execution_count": 117,
   "metadata": {},
   "outputs": [],
   "source": [
    "with open(model_name+'.pickle', 'rb') as handle:\n",
    "    b = pickle.load(handle)"
   ]
  },
  {
   "cell_type": "code",
   "execution_count": 62,
   "metadata": {},
   "outputs": [],
   "source": [
    "def printPercentage(i,size,steps):\n",
    "    if i%(size//steps) == 0:\n",
    "        print(str(round((i/size)*100,2)) + \"%\")\n",
    "    if(i==size-1):\n",
    "        print(\"finished\")"
   ]
  }
 ],
 "metadata": {
  "kernelspec": {
   "display_name": "Python 3",
   "language": "python",
   "name": "python3"
  },
  "language_info": {
   "codemirror_mode": {
    "name": "ipython",
    "version": 3
   },
   "file_extension": ".py",
   "mimetype": "text/x-python",
   "name": "python",
   "nbconvert_exporter": "python",
   "pygments_lexer": "ipython3",
   "version": "3.7.3"
  }
 },
 "nbformat": 4,
 "nbformat_minor": 2
}
